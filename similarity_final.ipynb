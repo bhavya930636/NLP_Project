{
 "cells": [
  {
   "cell_type": "code",
   "execution_count": 2,
   "id": "20b4eebe-73c0-4f26-9013-606e9420b896",
   "metadata": {},
   "outputs": [],
   "source": [
    "import numpy as np"
   ]
  },
  {
   "cell_type": "markdown",
   "id": "14796b65-4d64-4caa-b5b2-ed85d401cde4",
   "metadata": {
    "jp-MarkdownHeadingCollapsed": true
   },
   "source": [
    "# Text_embeddings"
   ]
  },
  {
   "cell_type": "code",
   "execution_count": 12,
   "id": "784c2137-e5c4-4cfc-b902-f6199a882ffa",
   "metadata": {},
   "outputs": [
    {
     "name": "stdout",
     "output_type": "stream",
     "text": [
      "143\n"
     ]
    }
   ],
   "source": [
    "\n",
    "cases_folder = '/home/sjain/Documents/sem4/DL,ML/catch/D2V-BiGRU-CRF/catchphrases_for_cases_140/test_documents'\n",
    "\n",
    "# for filename in os.listdir(cases_folder):\n",
    "#     print(filename)\n",
    "# Define the path to the file\n",
    "file_path = '/home/sjain/Documents/sem4/DL,ML/catch/GNN/headings_.txt'  # Replace with the correct path to your file\n",
    "\n",
    "# Initialize an empty list to store the extracted values\n",
    "extracted_values = []\n",
    "\n",
    "# Open the file and read line by line\n",
    "with open(file_path, 'r', encoding='utf-8') as file:\n",
    "    for line in file:\n",
    "        # Split the line at the '-------->>' symbol and take the first part\n",
    "        value = line.split(' -------->>')[0].strip()\n",
    "        # Append the extracted value to the list\n",
    "        extracted_values.append(value)\n",
    "\n",
    "# Print the list of extracted values\n",
    "print(len(extracted_values))\n"
   ]
  },
  {
   "cell_type": "code",
   "execution_count": 18,
   "id": "aacb1093-edbc-4f72-9723-833f8e6bafca",
   "metadata": {},
   "outputs": [
    {
     "name": "stdout",
     "output_type": "stream",
     "text": [
      "1954_B_4\n",
      "1954_B_6\n",
      "1954_M_19\n",
      "1954_N_9\n",
      "1954_R_10\n",
      "1954_S_22\n",
      "1954_S_24\n",
      "1954_S_72\n",
      "1954_T_40\n",
      "1954_T_53\n",
      "1954_U_1\n",
      "1954_W_1\n",
      "1955_A_10\n",
      "1955_B_4\n",
      "1955_M_3\n",
      "1955_S_21\n",
      "1955_S_30\n",
      "1955_S_42\n",
      "1955_S_46\n",
      "1955_S_60\n",
      "1955_T_14\n",
      "1956_J_4\n",
      "1956_T_26\n",
      "1957_L_1\n",
      "1957_M_26\n",
      "1957_R_5\n",
      "1958_B_3\n",
      "1958_K_11\n",
      "1958_M_8\n",
      "1958_R_9\n",
      "1958_S_6\n",
      "1958_T_31\n",
      "1958_V_2\n",
      "1959_C_14\n",
      "1959_G_11\n",
      "1959_J_4\n",
      "1959_M_14\n",
      "1959_M_20\n",
      "1959_M_35\n",
      "1959_S_64\n",
      "1959_S_66\n",
      "1959_T_25\n",
      "1959_T_40\n",
      "1959_V_1\n",
      "1960_B_3\n",
      "1960_B_6\n",
      "1060_B_9\n",
      "1960_D_4\n",
      "1960_L_8\n",
      "1960_M_48\n",
      "1960_S_59\n",
      "1960_T_124\n",
      "1960_T_144\n",
      "1960_T_149\n",
      "1960_V_6\n",
      "1961_C_23\n",
      "1961_D_10\n",
      "1961_D_19\n",
      "1961_I_17\n",
      "1961_M_6\n",
      "1961_M_29\n",
      "1961_M_80\n",
      "1962_M_23\n",
      "1962_S_173\n",
      "1962_T_65\n",
      "1963_P_3\n",
      "1963_P_10\n",
      "1964_C_59\n",
      "1964_N_5\n",
      "1965_C_63\n",
      "1965_N_5\n",
      "1967_T_29\n",
      "1958_B_27\n",
      "1968_R_21\n",
      "1969_S_107\n",
      "1970_A_30\n",
      "1970_P_28\n",
      "1971_G_9\n",
      "1973_S_212\n",
      "1974_B_25\n",
      "1974_K_9\n",
      "1976_M_10\n",
      "1976_M_60\n",
      "1976_T_4\n",
      "2017_S_108\n",
      "2014_S_246\n",
      "2014_S_203\n",
      "2014_R_16\n",
      "2013_S_366\n",
      "2013_S_308\n",
      "2013_K_18\n",
      "2013_B_11\n",
      "2012_S_119\n",
      "2012_M_36\n",
      "2012_I_6\n",
      "2011_I_16\n",
      "2010_A_107\n",
      "2009_S_1030\n",
      "2009_S_952\n",
      "2009_R_138\n",
      "2009_P_154\n",
      "2009_M_289\n",
      "2009_M_80\n",
      "2009_C_133\n",
      "2008_R_158\n",
      "2008_K_204\n",
      "2007_V_71\n",
      "2007_S_60\n",
      "2007_C_276\n",
      "2006_S_696\n",
      "2006_S_274\n",
      "2006_R_45\n",
      "2006_N_69\n",
      "2005_Y_3\n",
      "2005_S_441\n",
      "2005_K_85\n",
      "2005_F_5\n",
      "2004_R_188\n",
      "2004_M_67\n",
      "2004_M_2\n",
      "2002_S_633\n",
      "2002_M_110\n",
      "2001_S_633\n",
      "2001_K_22\n",
      "2000_P_48\n",
      "2000_B_24\n",
      "1999_U_100\n",
      "1999_T_57\n",
      "1999_S_198\n",
      "1998_G_32\n",
      "1996_M_67\n",
      "1992_A_59\n",
      "1991_B_26\n",
      "1990_S_130\n",
      "1990_C_99\n",
      "1989_S_159\n",
      "1988_U_45\n",
      "1988_S_14\n",
      "1986_P_36\n",
      "1980_U_40\n",
      "1980_R_34\n",
      "1977_S_62\n",
      "1977_R_16\n"
     ]
    }
   ],
   "source": [
    "\n",
    "\n",
    "import os\n",
    "import pandas as pd\n",
    "# from sklearn.feature_extraction.text import TfidfVectorizer\n",
    "\n",
    "# Define the directory where your files are located\n",
    "cases_folder = '/home/sjain/Documents/sem4/DL,ML/catch/D2V-BiGRU-CRF/catchphrases_for_cases_140/test_documents'\n",
    "\n",
    "citations_folder = '/home/sjain/Documents/sem4/DL,ML/catch/D2V-BiGRU-CRF/New_Catchphrases_140_citations'\n",
    "# citations_folder = '/home/sjain/Documents/sem4/DL,ML/catch/D2V-BiGRU-CRF/catchphrases_for_citations_140'\n",
    "documents = []\n",
    "file_names = []\n",
    "i=0\n",
    "for filename in extracted_values:\n",
    "    print(filename)\n",
    "    case_name = filename\n",
    "    filename = filename +'.txt'\n",
    "    file_path = os.path.join(cases_folder, filename)   # Get the full path to the file\n",
    "    if os.path.exists(file_path):\n",
    "        with open(file_path, 'r', encoding='utf-8') as file:\n",
    "            text = file.read()\n",
    "            # if text not in documents:# Read the content of the file\n",
    "            # documents.append(text)  # Append content to documents list\n",
    "            file_names.append(filename)  # Use the dictionary key as the filename\n",
    "            i=i+1\n",
    "        subdir_path = os.path.join(citations_folder,case_name)\n",
    "        for file in os.listdir(subdir_path):\n",
    "            file_path = os.path.join(subdir_path, file)\n",
    "            with open(file_path, 'r', encoding='utf-8') as file:\n",
    "                    cite = file.read() \n",
    "                    # print(text)\n",
    "                    # if text not in documents:# Read the content of the file\n",
    "                    text = text + '\\n' + cite\n",
    "        # print(text)\n",
    "        documents.append(text)\n",
    "       \n",
    "\n"
   ]
  },
  {
   "cell_type": "code",
   "execution_count": 19,
   "id": "27d8f4d7-e723-4fc0-af4a-875bcc2f5819",
   "metadata": {},
   "outputs": [
    {
     "data": {
      "text/plain": [
       "140"
      ]
     },
     "execution_count": 19,
     "metadata": {},
     "output_type": "execute_result"
    }
   ],
   "source": [
    "len(file_names)"
   ]
  },
  {
   "cell_type": "code",
   "execution_count": 20,
   "id": "3e2ba71e-bbe3-4734-8f40-0751a91a1b94",
   "metadata": {},
   "outputs": [
    {
     "data": {
      "text/plain": [
       "140"
      ]
     },
     "execution_count": 20,
     "metadata": {},
     "output_type": "execute_result"
    }
   ],
   "source": [
    "len(documents)"
   ]
  },
  {
   "cell_type": "code",
   "execution_count": 21,
   "id": "37146c0c-7a2a-4ce4-a8d8-ed9842c4d75b",
   "metadata": {},
   "outputs": [
    {
     "data": {
      "text/plain": [
       "'previous year\\narrears of rent\\ndividend\\nprivy council\\nrent\\ntransferable\\npersonal service\\nconsideration\\naccounting year\\nshares\\ndebt\\nexemption\\nassessee\\nclaim\\nfirm name\\ncompany\\nagricultural\\npersonal\\nseller\\nemployer\\nliability\\ndefinition\\ndischarge\\ncreditor\\ncontract\\ntax officer\\nland\\nsale\\ninterest\\nreceiver\\naccident\\nestate\\nincome\\nclaim\\ninterest\\nbreach of\\naccident\\nassessee\\ndamage\\nenquiry\\ncompany\\nassessment\\ndebtor\\ncarriage\\npremium paid\\nagreement\\nrefund\\nassessment year\\nacquisition\\nbuy\\nconspiracy\\nconsideration\\nincome\\npremium\\nbanker\\nincome tax authorities\\ncontract\\ndeduction\\nbusiness\\ncompensation\\ndismissal\\npremium\\nassessment year\\nprevious year\\nalert service\\nbonus\\npublic servant\\ndeduction\\nelectoral trust\\nassessment year\\ncompensation\\nacquisition\\ndepreciation\\nbusiness trust\\nliquidation\\ninvestment trust\\ndividend\\nassessee\\npremium\\nassessment\\nprevious year\\nclaim\\nright\\ninterest\\ntax officer\\nland\\nassessee\\nproperty\\ncompany\\nlicence\\nrent\\nnotice\\nprevious year\\nfather\\ntransfer\\ndue\\nprospecting\\nagreement\\nalert service\\nanderson\\nassessment year\\nlease\\npossession\\nlandlord\\nconsideration\\ntaxation\\nincome\\npremium\\nappeal\\nsalami paid\\nsalami\\nliability\\npremium\\nassessee\\nassessee\\ncompensation\\nacquisition\\nparliament\\naccounting\\nabatement\\noath\\nunsound mind\\nconstituency\\nemployee\\npublic servant\\ndomestic servant\\ndeduction\\npremium\\ngratuity\\npremium\\nassessment year\\nprevious year\\nincome\\nagency\\ndeduction\\npersonal service\\ncompany\\nagency agreement\\nexemption\\npersonal\\ndepreciation\\nannual salary\\nmutawalli\\nemployer\\nassessment\\nincome\\nland\\npremium\\ndebt\\nassessee\\nagreement\\nagricultural\\nliability\\nbonus\\nconstituency\\nnomination\\nappointment\\nemployer\\nland\\nassessee\\nparliament\\ntermination\\nemployment\\nsecurity\\ndepreciation\\ngratuity\\npromotion\\nretrenchment\\ncensus\\nvaluation\\noath\\ndebtor\\nfraud\\naccounting year\\nassessment year\\nacquisition\\nbuy\\nincome\\npremium\\nemployee\\ndischarge\\neye\\ndeduction\\nexemption\\ncompensation\\ndismissal\\nmortgage\\nannual\\ndividend\\naccounting\\ncitizenship\\nsuperannuation\\nkidnapping\\ndeduction\\nemployment\\nemployer\\npremium\\nassessee\\nsalaries'"
      ]
     },
     "execution_count": 21,
     "metadata": {},
     "output_type": "execute_result"
    }
   ],
   "source": [
    "documents[0]"
   ]
  },
  {
   "cell_type": "code",
   "execution_count": 22,
   "id": "6883e6de-f485-4f41-a3dd-db5f4f161021",
   "metadata": {},
   "outputs": [],
   "source": [
    "i=0\n",
    "for doc in documents:\n",
    "    documents[i] = doc.replace(\"\\n\", \" \").strip()\n",
    "    i+=1\n",
    "# documents[::100]\n",
    "    "
   ]
  },
  {
   "cell_type": "code",
   "execution_count": 23,
   "id": "9413155a-5257-4114-9aec-4a6b01b8f0f6",
   "metadata": {},
   "outputs": [],
   "source": [
    "from transformers import AutoTokenizer, AutoModel\n",
    "tokenizer = AutoTokenizer.from_pretrained(\"law-ai/InLegalBERT\")\n",
    "model = AutoModel.from_pretrained(\"law-ai/InLegalBERT\")\n"
   ]
  },
  {
   "cell_type": "code",
   "execution_count": 24,
   "id": "a8b23af9-d517-4c99-9ea7-fa21e07b31e2",
   "metadata": {},
   "outputs": [],
   "source": [
    "import numpy as np\n",
    "\n",
    "def transform_and_normalize(vecs, kernel, bias):\n",
    "    \"\"\"\n",
    "        Applying transformation then standardize\n",
    "    \"\"\"\n",
    "    if not (kernel is None or bias is None):\n",
    "        vecs = (vecs + bias).dot(kernel)\n",
    "    return normalize(vecs)\n",
    "    \n",
    "def normalize(vecs):\n",
    "    \"\"\"\n",
    "        Standardization\n",
    "    \"\"\"\n",
    "    return vecs / (vecs**2).sum(axis=1, keepdims=True)**0.5\n",
    "    \n",
    "def compute_kernel_bias(vecs):\n",
    "    \"\"\"\n",
    "    Calculate Kernal & Bias for the final transformation - y = (x + bias).dot(kernel)\n",
    "    \"\"\"\n",
    "    vecs = np.concatenate(vecs, axis=0)\n",
    "    mu = vecs.mean(axis=0, keepdims=True)\n",
    "    cov = np.cov(vecs.T)\n",
    "    u, s, vh = np.linalg.svd(cov)\n",
    "    W = np.dot(u, np.diag(s**0.5))\n",
    "    W = np.linalg.inv(W.T)\n",
    "    return W, -mu"
   ]
  },
  {
   "cell_type": "code",
   "execution_count": 29,
   "id": "e5f43717-dcd6-4ee3-b867-487ddec8f6c4",
   "metadata": {},
   "outputs": [],
   "source": [
    "import torch\n",
    "DEVICE = torch.device('cuda' if torch.cuda.is_available() else 'cpu')\n",
    "def Dim_reduction(sentences, tokenizer, model):\n",
    "\n",
    "    vecs = []\n",
    "    with torch.no_grad():\n",
    "\n",
    "        for sentence in sentences:\n",
    "            inputs = tokenizer(sentence, return_tensors=\"pt\", padding=True, truncation=True,  max_length=64)\n",
    "            inputs['input_ids'] = inputs['input_ids'].to(DEVICE)\n",
    "            inputs['attention_mask'] = inputs['attention_mask'].to(DEVICE)\n",
    "\n",
    "            hidden_states = model(**inputs, return_dict=True, output_hidden_states=True).hidden_states\n",
    "\n",
    "            #Averaging the first & last hidden states\n",
    "            output_hidden_state = (hidden_states[-1] + hidden_states[1]).mean(dim=1)\n",
    "\n",
    "            vec = output_hidden_state.cpu().numpy()[0]\n",
    "\n",
    "            vecs.append(vec)\n",
    "\n",
    "    #Finding Kernal\n",
    "    kernel, bias = compute_kernel_bias([vecs])\n",
    "    # kernel = kernel[:, :256]\n",
    "    #If you want to reduce it to 128 dim\n",
    "    kernel = kernel[:, :100]\n",
    "    embeddings = []\n",
    "    embeddings = np.vstack(vecs)\n",
    "\n",
    "    #Sentence embeddings can be converted into an identity matrix\n",
    "    #by utilizing the transformation matrix\n",
    "    embeddings = transform_and_normalize(embeddings, \n",
    "                kernel=kernel,\n",
    "                bias=bias\n",
    "            )\n",
    "\n",
    "    return embeddings"
   ]
  },
  {
   "cell_type": "code",
   "execution_count": 30,
   "id": "78f239a1-d190-4a0f-b044-28f3b0c7d6c8",
   "metadata": {},
   "outputs": [],
   "source": [
    "embeddings = Dim_reduction(documents, tokenizer, model)\n",
    "#print(distance.cosine(embeddings[0],embeddings[1]))"
   ]
  },
  {
   "cell_type": "code",
   "execution_count": 31,
   "id": "6840ec6a-a6f0-4aef-8b22-01229957265e",
   "metadata": {},
   "outputs": [
    {
     "name": "stdout",
     "output_type": "stream",
     "text": [
      "New Dimension is (140, 100)\n",
      "<class 'numpy.ndarray'>\n"
     ]
    }
   ],
   "source": [
    "print(f\"New Dimension is {np.shape(embeddings)}\")\n",
    "print(type(embeddings))"
   ]
  },
  {
   "cell_type": "code",
   "execution_count": 32,
   "id": "c72c709b-ebe8-4903-86c1-04dfd93c4718",
   "metadata": {},
   "outputs": [],
   "source": [
    "import numpy as np\n",
    "\n",
    "# Assuming `array` is your NumPy array\n",
    "np.save('text_catchphrase_case_embedding_140_100d_final.npy', embeddings)\n"
   ]
  },
  {
   "cell_type": "markdown",
   "id": "b01c442e-195c-49cd-8401-07cf12ce67ad",
   "metadata": {},
   "source": [
    "# Node2vec"
   ]
  },
  {
   "cell_type": "code",
   "execution_count": 3,
   "id": "2530b467-a32d-477e-aeb0-ed8ba7fadb19",
   "metadata": {},
   "outputs": [
    {
     "data": {
      "text/plain": [
       "(140, 128)"
      ]
     },
     "execution_count": 3,
     "metadata": {},
     "output_type": "execute_result"
    }
   ],
   "source": [
    "text_128 = np.load('text_catchphrase_case_embedding_140_128d_final.npy')\n",
    "text_128.shape"
   ]
  },
  {
   "cell_type": "code",
   "execution_count": 4,
   "id": "64f9af48-441d-4d94-b5d2-dbd6cc0d7e3f",
   "metadata": {},
   "outputs": [],
   "source": [
    "import json\n",
    "json_file = \"/home/sjain/Documents/sem4/DL,ML/catch/GNN/data_140_withacts.json\"  # Update with your JSON file path\n",
    "\n",
    "# Load the original dictionary from the JSON file\n",
    "with open(json_file, 'r') as f:\n",
    "    original_dict = json.load(f)\n"
   ]
  },
  {
   "cell_type": "code",
   "execution_count": 5,
   "id": "def2f214-3da4-4267-9449-bc2cdfb85f33",
   "metadata": {},
   "outputs": [
    {
     "data": {
      "text/plain": [
       "143"
      ]
     },
     "execution_count": 5,
     "metadata": {},
     "output_type": "execute_result"
    }
   ],
   "source": [
    "dict_keys = list(original_dict.keys())  # Convert to list to maintain order\n",
    "len(dict_keys)"
   ]
  },
  {
   "cell_type": "code",
   "execution_count": 6,
   "id": "0bf14e84-26c8-40a2-9e9d-3323c698250c",
   "metadata": {},
   "outputs": [],
   "source": [
    "keys_to_remove = {'CLJOSUPAS1959', 'JKGSMA1967', 'ASRASF2009'}\n",
    "\n",
    "# Filter dict_keys to exclude the keys_to_remove\n",
    "filtered_dict_keys = [key for key in dict_keys if key not in keys_to_remove]\n"
   ]
  },
  {
   "cell_type": "code",
   "execution_count": 7,
   "id": "92d72ebf-55de-4967-bc50-7dde1e52a1bb",
   "metadata": {},
   "outputs": [],
   "source": [
    "import pickle\n",
    "with open('GNN/node2vec_140.pkl', 'rb') as f:\n",
    "    node2vec = pickle.load(f)"
   ]
  },
  {
   "cell_type": "code",
   "execution_count": 8,
   "id": "4d1c6022-4eba-4906-aae7-24589e2a61f8",
   "metadata": {},
   "outputs": [
    {
     "name": "stdout",
     "output_type": "stream",
     "text": [
      "(140, 128)\n"
     ]
    }
   ],
   "source": [
    "embedding_node2vec_array = np.array([node2vec[key] for key in filtered_dict_keys])\n",
    "\n",
    "# Retrieve the values corresponding to dict_keys\n",
    "print(embedding_node2vec_array.shape)"
   ]
  },
  {
   "cell_type": "code",
   "execution_count": 9,
   "id": "e143e81c-4528-41d8-bb27-a633494cec40",
   "metadata": {},
   "outputs": [
    {
     "data": {
      "text/plain": [
       "(140, 128)"
      ]
     },
     "execution_count": 9,
     "metadata": {},
     "output_type": "execute_result"
    }
   ],
   "source": [
    "merged_embeddings_node2vec = text_128 + embedding_node2vec_array\n",
    "merged_embeddings_node2vec.shape"
   ]
  },
  {
   "cell_type": "code",
   "execution_count": 10,
   "id": "8710962e-786f-4d63-98ad-ff514f2e2411",
   "metadata": {},
   "outputs": [
    {
     "data": {
      "text/plain": [
       "140"
      ]
     },
     "execution_count": 10,
     "metadata": {},
     "output_type": "execute_result"
    }
   ],
   "source": [
    "filtered_keys = [key for key in filtered_dict_keys if key in node2vec]\n",
    "len(filtered_keys)"
   ]
  },
  {
   "cell_type": "code",
   "execution_count": 11,
   "id": "e7ff7a02-9ac4-4acf-ab9a-567a7f738f16",
   "metadata": {},
   "outputs": [],
   "source": [
    "\n",
    "key_embedding_dict = {}\n",
    "\n",
    "# Iterating with index\n",
    "for index, key in enumerate(filtered_keys):\n",
    "    embedding = merged_embeddings_node2vec[index]  # Get the corresponding embedding\n",
    "    key_embedding_dict[key] = embedding  # Add to the dictionary\n"
   ]
  },
  {
   "cell_type": "code",
   "execution_count": 12,
   "id": "d366bc4c-d376-4aba-b6bb-811b9a0654bc",
   "metadata": {},
   "outputs": [],
   "source": [
    "with open('node2vec_merged_embeddings_140_final', 'wb') as f:\n",
    "        pickle.dump(key_embedding_dict, f)"
   ]
  },
  {
   "cell_type": "code",
   "execution_count": 13,
   "id": "d0fbc17c-01e9-4fd1-bc97-0ce5cc679e1d",
   "metadata": {},
   "outputs": [
    {
     "name": "stdout",
     "output_type": "stream",
     "text": [
      "        Case_1      Case_2  Score\n",
      "0     1959_V_1  2008_A_218   0.70\n",
      "1     1959_J_4   2000_B_24   0.55\n",
      "2    1961_I_17    1976_T_4   0.35\n",
      "3  2009_S_1030   2013_B_11   0.60\n",
      "4     1960_B_3    2005_F_5   0.80\n"
     ]
    }
   ],
   "source": [
    "import pandas as pd\n",
    "\n",
    "# Load the CSV file\n",
    "file_path = '/home/sjain/Documents/sem4/DL,ML/catch/D2V-BiGRU-CRF (1)/Catchphrases_extracted_by_D2V_BiGRU_CRF/similarity_scores.csv'\n",
    "df = pd.read_csv(file_path)\n",
    "# /home/sjain/Documents/sem4/DL,ML/catch/D2V-BiGRU-CRF (1)/Catchphrases_extracted_by_D2V_BiGRU_CRF\n",
    "# Display the first few rows of the dataframe\n",
    "print(df.head())\n"
   ]
  },
  {
   "cell_type": "code",
   "execution_count": 14,
   "id": "42db8827-a097-4805-833f-d49ac2e2e818",
   "metadata": {},
   "outputs": [
    {
     "name": "stdout",
     "output_type": "stream",
     "text": [
      "['1959_V_1', '1959_J_4', '1961_I_17', '2009_S_1030', '1960_B_3', '1960_T_149', '1954_B_4', '1956_T_26', '2014_R_16', '1959_M_20', '1958_V_2', '1955_S_21', '1990_C_99', '1957_L_1', '1955_B_4', '2013_S_366', '2013_S_366', '1954_M_19', '2014_S_203', '1990_S_130', '1954_W_1', '1954_S_24', '1955_S_30', '1956_J_4', '1957_R_5', '1954_T_40', '1954_T_53', '1958_T_40', '1959_G_11', '1959_M_14', '2013_S_366', '1990_S_130', '1958_M_8', '1954_S_22', '1954_U_1', '2009_M_80', '2005_Y_5', '1961_D_10', '1954_R_10', '1955_S_30', '1955_S_60', '1960_D_4', '1955_A_10', '2006_N_69', '1955_S_42', '1955_S_60', '1955_M_3', '1958_T_40', '1961_M_29', '1959_G_11', '1954_B_6', '1960_T_144', '1961_D_19', '1990_S_130', '1961_C_23', '1958_T_40', '1954_T_53', '2007_S_60', '2005_S_441', '1959_S_66', '2006_S_696', '1954_N_9', '1959_S_64', '2008_K_204', '1990_S_130', '1954_S_72', '2012_S_119', '2013_B_11', '1960_B_9', '1960_V_6', '1958_K_11', '1954_G_4', '1960_T_124', '1974_B_25', '1958_B_3', '2012_S_119', '1960_M_48', '1996_M_67', '1953_A_5', '1960_S_59', '1957_M_26', '1959_M_35', '2006_S_274', '1959_T_25', '1959_C_14', '1958_R_9', '1961_M_6', '1958_S_6', '1955_T_14', '1960_B_6']\n",
      "['2008_A_218', '2000_B_24', '1976_T_4', '2013_B_11', '2005_F_5', '2009_R_138', '1980_R_34', '1962_S_173', '1992_A_59', '1969_S_107', '1959_J_4', '1998_G_32', '2009_M_80', '2013_K_18', '1971_G_9', '2007_S_60', '2006_S_274', '1975_C_45', '2009_P_154', '2011_I_16', '1962_M_53', '2009_C_133', '1989_S_159', '1976_M_60', '2017_S_108', '2005_Y_3', '1964_N_5', '1962_T_65', '1986_P_36', '1960_A_15', '2009_S_952', '1999_U_100', '1977_S_62', '2002_S_633', '1991_B_26', '1990_C_99', '1996_M_67', '2009_M_289', '1967_T_29', '2002_M_110', '2013_S_308', '1970_P_28', '2006_R_45', '2008_R_158', '1970_A_30', '1969_H_14', '2007_C_276', '1961_M_80', '1977_R_16', '2008_K_128', '2010_A_107', '2001_K_22', '2001_S_633', '1999_U_75', '1964_C_59', '2012_I_6', '1955_S_46', '2013_S_366', '2012_S_119', '2004_M_2', '1999_S_198', '1965_N_5', '1968_B_27', '2007_V_71', '1980_U_40', '2000_P_48', '1959_T_40', '2009_S_1030', '1974_K_9', '1963_P_10', '2014_S_246', '1968_R_21', '1999_T_57', '1973_S_212', '1958_T_31', '2005_S_441', '2005_K_85', '2005_Y_5', '1965_C_63', '1988_U_45', '2004_R_188', '2004_M_67', '2013_S_366', '1963_P_10', '1963_P_3', '1976_M_10', '1988_S_14', '1960_L_8', '1958_K_11', '2012_M_36']\n",
      "[0.7, 0.55, 0.35, 0.6, 0.8, 0.3, 0.6, 0.45, 0.75, 0.2, 0.35, 0.5, 0.7, 0.25, 0.7, 0.7, 0.55, 0.8, 0.3, 0.5, 0.2, 0.6, 0.5, 0.9, 0.35, 0.45, 0.6, 0.35, 0.8, 0.75, 0.75, 0.7, 0.7, 0.5, 0.25, 0.35, 0.55, 0.15, 0.8, 0.4, 0.85, 0.6, 0.65, 0.3, 0.5, 0.5, 0.5, 0.85, 0.8, 0.65, 0.3, 0.7, 0.85, 0.7, 0.7, 0.7, 0.65, 0.15, 0.15, 0.35, 0.75, 0.45, 0.7, 0.5, 0.6, 0.35, 0.15, 0.65, 0.35, 0.15, 0.35, 0.15, 0.2, 0.45, 0.15, 0.65, 0.55, 0.55, 0.45, 0.5, 0.35, 0.5, 0.45, 0.45, 0.4, 0.3, 0.55, 0.5, 0.45, 0.3]\n"
     ]
    }
   ],
   "source": [
    "\n",
    "# Extract the cases and convert to a list\n",
    "case_list = df['Case_1'].tolist()\n",
    "case_list2 = df['Case_2'].tolist()\n",
    "scores = df['Score'].tolist()\n",
    "# Print the list of cases\n",
    "print(case_list)\n",
    "print(case_list2)\n",
    "print(scores)"
   ]
  },
  {
   "cell_type": "code",
   "execution_count": 15,
   "id": "4599fa4a-0eab-4ccf-a276-761c008be8d2",
   "metadata": {},
   "outputs": [
    {
     "name": "stderr",
     "output_type": "stream",
     "text": [
      "[nltk_data] Downloading package stopwords to /home/sjain/nltk_data...\n",
      "[nltk_data]   Package stopwords is already up-to-date!\n"
     ]
    }
   ],
   "source": [
    "import nltk\n",
    "from nltk.corpus import stopwords\n",
    "nltk.download('stopwords')\n",
    "# print(stopwords.words('english'))\n",
    "stop_words = set(stopwords.words('english'))\n",
    "stop_words.add('The')\n",
    "stop_words.add('of')\n",
    "stop_words.add('For')\n",
    "stop_words.add('Ors')\n",
    "stop_words.add('And')\n",
    "stop_words.add('Etc')\n",
    "stop_words.add('Ltd')\n",
    "stop_words.add('on')\n",
    "stop_words.add('Anr')\n",
    "stop_words.add('Another')\n",
    "stop_words.add('M/S')\n",
    "stop_words.add('Pvt')\n",
    "stop_words.add('State')\n",
    "stop_words.add('Of')\n",
    "stop_words.add('Through')\n",
    "stop_words.add('Shri')\n",
    "stop_words.add('Now')\n",
    "stop_words.add('Sri')\n",
    "stop_words.add('Uoi')\n",
    "stop_words.add('Others')\n",
    "stop_words.add('By')\n",
    "stop_words.add('Corpn')\n",
    "stop_words.add('Lrs')\n",
    "stop_words.add('Sir')\n",
    "stop_words.add('Limited')\n",
    "stop_words.add('Smt')\n",
    "stop_words.add('Co')\n",
    "stop_words.add('In')\n",
    "stop_words.add('Dr')\n",
    "stop_words.add('Private')\n",
    "import re\n",
    "import string\n",
    "def create_entity_case(heading_text):\n",
    "    \n",
    "    heading_text = heading_text.strip(string.punctuation)\n",
    "    heading_text = [word.strip(string.punctuation) for word in re.split(';|,|_| ', heading_text) if word.strip(string.punctuation).isalnum()]\n",
    "            \n",
    "    # print(heading_text)\n",
    "    for item in heading_text:\n",
    "    # print(item)\n",
    "        if item in stop_words:\n",
    "            heading_text.remove(item)\n",
    "    \n",
    "    # Extract the year (assuming it's the last element and it's a number)\n",
    "    year = \"\"\n",
    "    if heading_text[-1].isdigit():\n",
    "        year = heading_text.pop(-1)\n",
    "    \n",
    "    # Form the abbreviation\n",
    "    abbreviation = ''.join([word[0] for word in heading_text if word[0].isupper()])\n",
    "    abbreviation += year\n",
    "    \n",
    "    # driver.quit()\n",
    "    return abbreviation\n",
    "    \n",
    "    "
   ]
  },
  {
   "cell_type": "code",
   "execution_count": 33,
   "id": "7c98ac25-1cba-4d18-a307-c114d68fcad7",
   "metadata": {},
   "outputs": [
    {
     "data": {
      "text/plain": [
       "{'1954_B_4': 'BFGCBO1954',\n",
       " '1954_B_6': 'SSSABSSOA1954',\n",
       " '1954_M_19': 'OPMSO1954',\n",
       " '1954_N_9': 'NLDPA1954',\n",
       " '1954_R_10': 'RSSBN1954',\n",
       " '1954_S_22': 'DIASAIAM1954',\n",
       " '1954_S_24': 'SLSUPUM1954',\n",
       " '1954_S_72': 'KOOUPF1954',\n",
       " '1954_T_40': 'BNSOA1954',\n",
       " '1954_T_53': 'DSMTRSOM1954',\n",
       " '1954_U_1': 'GSOUSOA1954',\n",
       " '1954_W_1': 'WSAAAJ1954',\n",
       " '1955_A_10': 'ASSPF1955',\n",
       " '1955_B_4': 'BRSUPS1955',\n",
       " '1955_M_3': 'MKRAGMOA1955',\n",
       " '1955_S_21': 'CSUPN1955',\n",
       " '1955_S_30': 'EOOHN1955',\n",
       " '1955_S_42': 'GSAOPN1955',\n",
       " '1955_S_46': 'VKSSPN1955',\n",
       " '1955_S_60': 'SSOUPN1955',\n",
       " '1955_T_14': 'TSBO1955',\n",
       " '1956_J_4': 'JOSPACN1956',\n",
       " '1956_T_26': 'KSUPN1956',\n",
       " '1957_L_1': 'BSCIJO1957',\n",
       " '1957_M_26': 'NGBMHO1957',\n",
       " '1957_R_5': 'RKCOKCAM1957',\n",
       " '1958_B_3': 'BNSSMA1958',\n",
       " '1958_K_11': 'KPDCF1958',\n",
       " '1958_M_8': 'THHMPMF1958',\n",
       " '1958_R_9': 'RACITBO1958',\n",
       " '1958_S_6': 'SMJSMBS1958',\n",
       " '1958_T_31': 'MASD1958',\n",
       " '1958_V_2': 'VSSPM1958',\n",
       " '1959_C_14': 'CLJOSUPAS1959',\n",
       " '1959_G_11': 'OBGKPN1959',\n",
       " '1959_J_4': 'JNGSWBM1959',\n",
       " '1959_M_14': 'ARMYMHAAS1959',\n",
       " '1959_M_20': 'DSGMUIJ1959',\n",
       " '1959_M_35': 'MSWTWM1959',\n",
       " '1959_S_64': 'RMPSBA1959',\n",
       " '1959_S_66': 'JBSDS1959',\n",
       " '1959_T_25': 'ACCIWM1959',\n",
       " '1959_T_40': 'ACLSBD1959',\n",
       " '1959_V_1': 'VCOOAPA1959',\n",
       " '1960_B_3': 'BVPOCGSS1960',\n",
       " '1960_B_6': 'BBTSBOA1960',\n",
       " '1060_B_9': 'SMPABPO1960',\n",
       " '1960_D_4': 'DSSPJ1960',\n",
       " '1960_L_8': 'LALNDJJOM1960',\n",
       " '1960_M_48': 'ZCCITDA1960',\n",
       " '1960_S_59': 'CKSAPA1960',\n",
       " '1960_T_124': 'PSSVPMN1960',\n",
       " '1960_T_144': 'CBJESLM1960',\n",
       " '1960_T_149': 'BCMTWF1960',\n",
       " '1960_V_6': 'VIWD1960',\n",
       " '1961_C_23': 'CCLMRM1961',\n",
       " '1961_D_10': 'RHCRSDLAOM1961',\n",
       " '1961_D_19': 'RSDCOA1961',\n",
       " '1961_I_17': 'JCIWM1961',\n",
       " '1961_M_6': 'MVJMUSAF1961',\n",
       " '1961_M_29': 'SBNSMMSAA1961',\n",
       " '1961_M_80': 'MOMS1961',\n",
       " '1962_M_23': 'PCMOD1962',\n",
       " '1962_S_173': 'SOUPF1962',\n",
       " '1962_T_65': 'RKASPM1962',\n",
       " '1963_P_3': 'RDKOA1963',\n",
       " '1963_P_10': 'PIWD1963',\n",
       " '1964_C_59': 'CMVMPFMO1964',\n",
       " '1964_N_5': 'RLITUJ1964',\n",
       " '1965_C_63': 'CMMTNDA1965',\n",
       " '1965_N_5': 'KONM1965',\n",
       " '1967_T_29': 'JKGSMA1967',\n",
       " '1958_B_27': 'BHDRSGA1968',\n",
       " '1968_R_21': 'RPOSUPN1968',\n",
       " '1969_S_107': 'VOMJ1969',\n",
       " '1970_A_30': 'AOOUPS1970',\n",
       " '1970_P_28': 'OAPBEM1970',\n",
       " '1971_G_9': 'GPROMM1971',\n",
       " '1973_S_212': 'CBOD1973',\n",
       " '1974_B_25': 'BKAORA1974',\n",
       " '1974_K_9': 'KKGPBOA1974',\n",
       " '1976_M_10': 'CITMIPN1976',\n",
       " '1976_M_60': 'MRTMKABD1976',\n",
       " '1976_T_4': 'HSPOLCS1976',\n",
       " '2017_S_108': 'KSNM2017',\n",
       " '2014_S_246': 'BOHA2014',\n",
       " '2014_S_203': 'NKOCO2014',\n",
       " '2014_R_16': 'RSORF2014',\n",
       " '2013_S_366': 'KVOKJ2013',\n",
       " '2013_S_308': 'HBPOGJ2013',\n",
       " '2013_K_18': 'KROKS2013',\n",
       " '2013_B_11': 'LCPSF2013',\n",
       " '2012_S_119': 'VLOAPN2012',\n",
       " '2012_M_36': 'PSASGSAM2012',\n",
       " '2012_I_6': 'SKIPKM2012',\n",
       " '2011_I_16': 'RIPCVS2011',\n",
       " '2010_A_107': 'OPAKBA2010',\n",
       " '2009_S_1030': 'SKOPS2009',\n",
       " '2009_S_952': 'OMGBA2009',\n",
       " '2009_R_138': 'ASRASF2009',\n",
       " '2009_P_154': 'PSOHM2009',\n",
       " '2009_M_289': 'MRLAOA2009',\n",
       " '2009_M_80': 'OHLEM2009',\n",
       " '2009_C_133': 'CITUMLM2009',\n",
       " '2008_R_158': 'BSRSRSA2008',\n",
       " '2008_K_204': 'EIPSKF2008',\n",
       " '2007_V_71': 'OJOVESM2007',\n",
       " '2007_S_60': 'SOMM2007',\n",
       " '2007_C_276': 'OAPCCBO2007',\n",
       " '2006_S_696': 'SJUIF2006',\n",
       " '2006_S_274': 'VOMN2006',\n",
       " '2006_R_45': 'RSOM2006',\n",
       " '2006_N_69': 'NUJMJRRD2006',\n",
       " '2005_Y_3': 'PCVKYSAM2005',\n",
       " '2005_S_441': 'HROHM2005',\n",
       " '2005_K_85': 'KHOBJ2005',\n",
       " '2005_F_5': 'FRKS2005',\n",
       " '2004_R_188': 'APRJA2004',\n",
       " '2004_M_67': 'KBPTA2004',\n",
       " '2004_M_2': 'CJDMKAA2004',\n",
       " '2002_S_633': 'PROOTNOM2002',\n",
       " '2002_M_110': 'OHMRD2002',\n",
       " '2001_S_633': 'NABODN2001',\n",
       " '2001_K_22': 'MCITCA2001',\n",
       " '2000_P_48': 'POHM2000',\n",
       " '2000_B_24': 'OBRA2000',\n",
       " '1999_U_100': 'MRNUIM1999',\n",
       " '1999_T_57': 'OHPTDAN1999',\n",
       " '1999_S_198': 'SGMBOMA1999',\n",
       " '1998_G_32': 'LDGYGYTOBJ1998',\n",
       " '1996_M_67': 'OBOMNCES1996',\n",
       " '1992_A_59': 'ASKNSOBN1992',\n",
       " '1991_B_26': 'OPBSO1991',\n",
       " '1990_S_130': 'KRASPKN1990',\n",
       " '1990_C_99': 'RVCITES1990',\n",
       " '1989_S_159': 'LOJ1989',\n",
       " '1988_U_45': 'LCGUIA1988',\n",
       " '1988_S_14': 'REOMF1988',\n",
       " '1986_P_36': 'RKPAA1986',\n",
       " '1980_U_40': 'CPAUIVVN1980',\n",
       " '1980_R_34': 'OMPRRM1980',\n",
       " '1977_S_62': 'GSDAD1977',\n",
       " '1977_R_16': 'SDRPF1977'}"
      ]
     },
     "execution_count": 33,
     "metadata": {},
     "output_type": "execute_result"
    }
   ],
   "source": [
    "\n",
    "citations_folder = '/home/sjain/Documents/sem4/DL,ML/catch/GNN/test'\n",
    "headings_file = '/home/sjain/Documents/sem4/DL,ML/catch/GNN/headings_.txt'\n",
    "id_to_entity={}\n",
    "# Read the headings from the file\n",
    "with open(headings_file, 'r') as file:\n",
    "    lines = file.readlines()\n",
    "#866427 -------->> Janak Singh And Anr vs State Of Uttar Pradesh on 19 April, 2004\n",
    "for line in lines:\n",
    "    doc_id, heading_text = line.split(' -------->> ')\n",
    "    heading_text = heading_text.strip()\n",
    "    case_key = create_entity_case(heading_text)\n",
    "    # print(case_key)\n",
    "    id_to_entity[doc_id] = case_key\n",
    "    # 1959_V_1 : BSDGB2011\n",
    "    \n",
    "id_to_entity"
   ]
  },
  {
   "cell_type": "code",
   "execution_count": 68,
   "id": "f9a33c2a-e69b-47da-b201-a27992aea652",
   "metadata": {},
   "outputs": [],
   "source": [
    "with open('file_to_entity.pkl', 'wb') as file:\n",
    "    pickle.dump(id_to_entity, file)"
   ]
  },
  {
   "cell_type": "code",
   "execution_count": 39,
   "id": "7cd93ca2-19a2-4649-9869-ae9fc154160f",
   "metadata": {},
   "outputs": [],
   "source": [
    "import numpy as np\n",
    "from sklearn.metrics.pairwise import cosine_similarity\n",
    "\n",
    "# Define the function to calculate cosine similarity between two embeddings\n",
    "def calculate_cosine_similarity(embedding1, embedding2):\n",
    "    # return cosine_similarity(embedding1,embedding2)\n",
    "    # Reshape embeddings to 2D array for sklearn's cosine_similarity function\n",
    "    embedding1 = embedding1.reshape(1, -1)\n",
    "    embedding2 = embedding2.reshape(1, -1)\n",
    "    # Compute cosine similarity\n",
    "    similarity = cosine_similarity(embedding1, embedding2)\n",
    "    return similarity[0][0]\n"
   ]
  },
  {
   "cell_type": "code",
   "execution_count": 40,
   "id": "7f425cf4-f012-4ccb-a7ad-c48b57310b56",
   "metadata": {},
   "outputs": [
    {
     "name": "stdout",
     "output_type": "stream",
     "text": [
      "KeyError: '2008_A_218' - One of the cases is not found in the dictionaries.\n",
      "Similarity between 1959_J_4 and 2000_B_24: 0.16847761128840041, Actual is 0.55\n",
      "Similarity between 1961_I_17 and 1976_T_4: 0.46331940214578016, Actual is 0.35\n",
      "Similarity between 2009_S_1030 and 2013_B_11: 0.20648482713155267, Actual is 0.6\n",
      "Similarity between 1960_B_3 and 2005_F_5: 0.22586405650140257, Actual is 0.8\n",
      "KeyError: 'ASRASF2009' - One of the cases is not found in the dictionaries.\n",
      "Similarity between 1954_B_4 and 1980_R_34: 0.09002416163518973, Actual is 0.6\n",
      "Similarity between 1956_T_26 and 1962_S_173: 0.395147949564676, Actual is 0.45\n",
      "Similarity between 2014_R_16 and 1992_A_59: 0.18814579123790448, Actual is 0.75\n",
      "Similarity between 1959_M_20 and 1969_S_107: 0.23907103407563562, Actual is 0.2\n",
      "Similarity between 1958_V_2 and 1959_J_4: 0.24484031938518394, Actual is 0.35\n",
      "Similarity between 1955_S_21 and 1998_G_32: 0.2111784768477768, Actual is 0.5\n",
      "Similarity between 1990_C_99 and 2009_M_80: 0.13957590499504124, Actual is 0.7\n",
      "Similarity between 1957_L_1 and 2013_K_18: 0.08355821379418059, Actual is 0.25\n",
      "Similarity between 1955_B_4 and 1971_G_9: 0.300569636355813, Actual is 0.7\n",
      "Similarity between 2013_S_366 and 2007_S_60: 0.23079074137247033, Actual is 0.7\n",
      "Similarity between 2013_S_366 and 2006_S_274: 0.08139971475256971, Actual is 0.55\n",
      "KeyError: '1975_C_45' - One of the cases is not found in the dictionaries.\n",
      "Similarity between 2014_S_203 and 2009_P_154: 0.27437859629610145, Actual is 0.3\n",
      "Similarity between 1990_S_130 and 2011_I_16: 0.10444287421922015, Actual is 0.5\n",
      "KeyError: '1962_M_53' - One of the cases is not found in the dictionaries.\n",
      "Similarity between 1954_S_24 and 2009_C_133: 0.19000901644227727, Actual is 0.6\n",
      "Similarity between 1955_S_30 and 1989_S_159: 0.21487550092179303, Actual is 0.5\n",
      "Similarity between 1956_J_4 and 1976_M_60: 0.03571888036129833, Actual is 0.9\n",
      "Similarity between 1957_R_5 and 2017_S_108: 0.3158002245263025, Actual is 0.35\n",
      "Similarity between 1954_T_40 and 2005_Y_3: 0.10987913093342101, Actual is 0.45\n",
      "Similarity between 1954_T_53 and 1964_N_5: 0.16645638849205818, Actual is 0.6\n",
      "KeyError: '1958_T_40' - One of the cases is not found in the dictionaries.\n",
      "Similarity between 1959_G_11 and 1986_P_36: 0.4565671208988957, Actual is 0.8\n",
      "KeyError: '1960_A_15' - One of the cases is not found in the dictionaries.\n",
      "Similarity between 2013_S_366 and 2009_S_952: 0.3407849743310997, Actual is 0.75\n",
      "Similarity between 1990_S_130 and 1999_U_100: 0.0885665308251788, Actual is 0.7\n",
      "Similarity between 1958_M_8 and 1977_S_62: 0.08754599595771421, Actual is 0.7\n",
      "Similarity between 1954_S_22 and 2002_S_633: 0.11244712104730045, Actual is 0.5\n",
      "Similarity between 1954_U_1 and 1991_B_26: 0.22051419557519927, Actual is 0.25\n",
      "Similarity between 2009_M_80 and 1990_C_99: 0.13957590499504124, Actual is 0.35\n",
      "KeyError: '2005_Y_5' - One of the cases is not found in the dictionaries.\n",
      "Similarity between 1961_D_10 and 2009_M_289: 0.3861825680011679, Actual is 0.15\n",
      "KeyError: 'JKGSMA1967' - One of the cases is not found in the dictionaries.\n",
      "Similarity between 1955_S_30 and 2002_M_110: 0.21213423185588287, Actual is 0.4\n",
      "Similarity between 1955_S_60 and 2013_S_308: 0.14514750258081022, Actual is 0.85\n",
      "Similarity between 1960_D_4 and 1970_P_28: 0.30526683151503564, Actual is 0.6\n",
      "Similarity between 1955_A_10 and 2006_R_45: 0.26931899580881, Actual is 0.65\n",
      "Similarity between 2006_N_69 and 2008_R_158: 0.33747102848617705, Actual is 0.3\n",
      "Similarity between 1955_S_42 and 1970_A_30: 0.05017356374184112, Actual is 0.5\n",
      "KeyError: '1969_H_14' - One of the cases is not found in the dictionaries.\n",
      "Similarity between 1955_M_3 and 2007_C_276: 0.083011122364928, Actual is 0.5\n",
      "KeyError: '1958_T_40' - One of the cases is not found in the dictionaries.\n",
      "Similarity between 1961_M_29 and 1977_R_16: 0.30045897230700763, Actual is 0.8\n",
      "KeyError: '2008_K_128' - One of the cases is not found in the dictionaries.\n",
      "Similarity between 1954_B_6 and 2010_A_107: 0.3955313547483462, Actual is 0.3\n",
      "Similarity between 1960_T_144 and 2001_K_22: 0.043695114629154944, Actual is 0.7\n",
      "Similarity between 1961_D_19 and 2001_S_633: 0.129880376336961, Actual is 0.85\n",
      "KeyError: '1999_U_75' - One of the cases is not found in the dictionaries.\n",
      "Similarity between 1961_C_23 and 1964_C_59: 0.2700060320866405, Actual is 0.7\n",
      "KeyError: '1958_T_40' - One of the cases is not found in the dictionaries.\n",
      "Similarity between 1954_T_53 and 1955_S_46: 0.2796868174950691, Actual is 0.65\n",
      "Similarity between 2007_S_60 and 2013_S_366: 0.23079074137247033, Actual is 0.15\n",
      "Similarity between 2005_S_441 and 2012_S_119: 0.2531905825371702, Actual is 0.15\n",
      "Similarity between 1959_S_66 and 2004_M_2: 0.3304846073803802, Actual is 0.35\n",
      "Similarity between 2006_S_696 and 1999_S_198: 0.47627718668854635, Actual is 0.75\n",
      "Similarity between 1954_N_9 and 1965_N_5: 0.3184191977164139, Actual is 0.45\n",
      "KeyError: '1968_B_27' - One of the cases is not found in the dictionaries.\n",
      "Similarity between 2008_K_204 and 2007_V_71: 0.1675623013245655, Actual is 0.5\n",
      "Similarity between 1990_S_130 and 1980_U_40: 0.1690918727943852, Actual is 0.6\n",
      "Similarity between 1954_S_72 and 2000_P_48: 0.35821739539716607, Actual is 0.35\n",
      "Similarity between 2012_S_119 and 1959_T_40: 0.08025492569542261, Actual is 0.15\n",
      "Similarity between 2013_B_11 and 2009_S_1030: 0.20648482713155267, Actual is 0.65\n",
      "KeyError: '1960_B_9' - One of the cases is not found in the dictionaries.\n",
      "Similarity between 1960_V_6 and 1963_P_10: 0.3405673700353189, Actual is 0.15\n",
      "Similarity between 1958_K_11 and 2014_S_246: 0.118781134892773, Actual is 0.35\n",
      "KeyError: '1954_G_4' - One of the cases is not found in the dictionaries.\n",
      "Similarity between 1960_T_124 and 1999_T_57: 0.08331287241772575, Actual is 0.2\n",
      "Similarity between 1974_B_25 and 1973_S_212: 0.09971809294162066, Actual is 0.45\n",
      "Similarity between 1958_B_3 and 1958_T_31: 0.26393695711161713, Actual is 0.15\n",
      "Similarity between 2012_S_119 and 2005_S_441: 0.2531905825371702, Actual is 0.65\n",
      "Similarity between 1960_M_48 and 2005_K_85: 0.18081736785377128, Actual is 0.55\n",
      "KeyError: '2005_Y_5' - One of the cases is not found in the dictionaries.\n",
      "KeyError: '1953_A_5' - One of the cases is not found in the dictionaries.\n",
      "Similarity between 1960_S_59 and 1988_U_45: 0.263575515536235, Actual is 0.5\n",
      "Similarity between 1957_M_26 and 2004_R_188: 0.19717197852367735, Actual is 0.35\n",
      "Similarity between 1959_M_35 and 2004_M_67: 0.4060754637634298, Actual is 0.5\n",
      "Similarity between 2006_S_274 and 2013_S_366: 0.08139971475256971, Actual is 0.45\n",
      "Similarity between 1959_T_25 and 1963_P_10: 0.36646385228532086, Actual is 0.45\n",
      "KeyError: 'CLJOSUPAS1959' - One of the cases is not found in the dictionaries.\n",
      "Similarity between 1958_R_9 and 1976_M_10: 0.2549024194792181, Actual is 0.3\n",
      "Similarity between 1961_M_6 and 1988_S_14: 0.23273525794884134, Actual is 0.55\n",
      "Similarity between 1958_S_6 and 1960_L_8: 0.40329442570351764, Actual is 0.5\n",
      "Similarity between 1955_T_14 and 1958_K_11: 0.19659786576510468, Actual is 0.45\n",
      "Similarity between 1960_B_6 and 2012_M_36: 0.16353220703909788, Actual is 0.3\n"
     ]
    }
   ],
   "source": [
    "# output_file = '/home/sjain/Documents/sem4/DL,ML/catch/similarities_node2vec_final.txt'\n",
    "similarities_list_node2vec=[]\n",
    "similarities_list=[]\n",
    "scores_list=[]\n",
    "i_list=[]\n",
    "i=0\n",
    "for case_1, case_2,score in zip(case_list, case_list2,scores):\n",
    "    \n",
    "    try:\n",
    "        \n",
    "        entity_1 = id_to_entity[case_1]\n",
    "        entity_2 = id_to_entity[case_2]\n",
    "        \n",
    "        embedding1 = key_embedding_dict[entity_1]\n",
    "        embedding2 = key_embedding_dict[entity_2]\n",
    "        \n",
    "        # Calculate cosine similarity\n",
    "        similarity = calculate_cosine_similarity(embedding1, embedding2)\n",
    "        similarities_list.append(similarity)\n",
    "        scores_list.append(score)\n",
    "        \n",
    "        # Print the similarity\n",
    "        print(f\"Similarity between {case_1} and {case_2}: {similarity}, Actual is {score}\")\n",
    "        # with open(output_file, 'a') as file:\n",
    "        #     file.write(f\"Similarity between {case_1} and {case_2}: {similarity}, Actual is {score}\\n\")\n",
    "        i=i+1\n",
    "        i_list.append(i)\n",
    "\n",
    "    except KeyError as e:\n",
    "        print(f\"KeyError: {e} - One of the cases is not found in the dictionaries.\")\n",
    "        i+=1\n",
    "    except IndexError as e:\n",
    "        print(f\"IndexError: {e} - One of the indices is out of bounds in the embeddings array.\")\n",
    "        i+=1\n",
    "    except Exception as e:\n",
    "        print(f\"An unexpected error occurred: {e}\")\n",
    "        i+=1\n",
    "    \n"
   ]
  },
  {
   "cell_type": "code",
   "execution_count": 41,
   "id": "62fab1dd-10ae-4d47-a96d-80b40eab8b30",
   "metadata": {},
   "outputs": [
    {
     "name": "stdout",
     "output_type": "stream",
     "text": [
      "71 71\n"
     ]
    }
   ],
   "source": [
    "print(len(similarities_list),len(scores_list))"
   ]
  },
  {
   "cell_type": "code",
   "execution_count": 42,
   "id": "e212c6a0-b269-4971-aef5-21f6bff381f1",
   "metadata": {},
   "outputs": [
    {
     "name": "stdout",
     "output_type": "stream",
     "text": [
      "[2, 3, 4, 5, 7, 8, 9, 10, 11, 12, 13, 14, 15, 16, 17, 19, 20, 22, 23, 24, 25, 26, 27, 29, 31, 32, 33, 34, 35, 36, 38, 40, 41, 42, 43, 44, 45, 47, 49, 51, 52, 53, 55, 57, 58, 59, 60, 61, 62, 64, 65, 66, 67, 68, 70, 71, 73, 74, 75, 76, 77, 80, 81, 82, 83, 84, 86, 87, 88, 89, 90]\n"
     ]
    }
   ],
   "source": [
    "print(i_list)"
   ]
  },
  {
   "cell_type": "code",
   "execution_count": 55,
   "id": "71cd07e2-e0b5-40f0-85a9-ac6634f2a105",
   "metadata": {},
   "outputs": [
    {
     "data": {
      "text/plain": [
       "71"
      ]
     },
     "execution_count": 55,
     "metadata": {},
     "output_type": "execute_result"
    }
   ],
   "source": [
    "len(i_list)"
   ]
  },
  {
   "cell_type": "code",
   "execution_count": 22,
   "id": "46f3cee3-bee5-4f95-8239-63da61cf2ba0",
   "metadata": {},
   "outputs": [
    {
     "name": "stdout",
     "output_type": "stream",
     "text": [
      "Pearson correlation coefficient: -0.11318447212754826\n"
     ]
    }
   ],
   "source": [
    "\n",
    "from scipy.stats import pearsonr\n",
    "similarities_array = np.array(similarities_list)\n",
    "scores_array = np.array(scores_list)\n",
    "\n",
    "# Calculate Pearson correlation coefficient\n",
    "pearson_corr, _ = pearsonr(similarities_array, scores_array)\n",
    "\n",
    "print(f\"Pearson correlation coefficient: {pearson_corr}\")\n"
   ]
  },
  {
   "cell_type": "code",
   "execution_count": 43,
   "id": "d8859e88-4c28-4b06-b0d6-54ed1edf23f9",
   "metadata": {},
   "outputs": [],
   "source": [
    "similarities_node2vec = similarities_list"
   ]
  },
  {
   "cell_type": "markdown",
   "id": "65b74afb-371d-4480-ba3d-f98232da49ca",
   "metadata": {
    "jp-MarkdownHeadingCollapsed": true
   },
   "source": [
    "# Metapath2vec"
   ]
  },
  {
   "cell_type": "code",
   "execution_count": 72,
   "id": "6b5eedff-3d07-43d7-bee3-60d157da8e0a",
   "metadata": {},
   "outputs": [
    {
     "data": {
      "text/plain": [
       "(140, 100)"
      ]
     },
     "execution_count": 72,
     "metadata": {},
     "output_type": "execute_result"
    }
   ],
   "source": [
    "text_100 = np.load('text_catchphrase_case_embedding_140_100d_final.npy')\n",
    "text_100.shape"
   ]
  },
  {
   "cell_type": "code",
   "execution_count": 73,
   "id": "7b0b93a3-5611-4dfe-8925-a01f575f3d58",
   "metadata": {},
   "outputs": [
    {
     "name": "stdout",
     "output_type": "stream",
     "text": [
      "(140, 100)\n"
     ]
    }
   ],
   "source": [
    "with open('GNN/meta2vec_B_140.pkl', 'rb') as f:\n",
    "    meta2vec = pickle.load(f)\n",
    "embedding_meta2vec_array = np.array([meta2vec[key] for key in filtered_dict_keys])\n",
    "\n",
    "# Retrieve the values corresponding to dict_keys\n",
    "print(embedding_meta2vec_array.shape)"
   ]
  },
  {
   "cell_type": "code",
   "execution_count": 74,
   "id": "3ef2a244-4310-489e-8a39-1a57dcd8d367",
   "metadata": {},
   "outputs": [
    {
     "data": {
      "text/plain": [
       "(140, 100)"
      ]
     },
     "execution_count": 74,
     "metadata": {},
     "output_type": "execute_result"
    }
   ],
   "source": [
    "merged_embeddings_meta2vec = text_100 + embedding_meta2vec_array\n",
    "merged_embeddings_meta2vec.shape"
   ]
  },
  {
   "cell_type": "code",
   "execution_count": 75,
   "id": "fcf922d8-cd7a-45bf-9a03-b402afa669ff",
   "metadata": {},
   "outputs": [],
   "source": [
    "\n",
    "key_embedding_dict = {}\n",
    "\n",
    "# Iterating with index\n",
    "for index, key in enumerate(filtered_dict_keys):\n",
    "    embedding = merged_embeddings_meta2vec[index]  # Get the corresponding embedding\n",
    "    key_embedding_dict[key] = embedding  # Add to the dictionary\n",
    "# with open('meta2vec_merged_embeddings_140', 'wb') as f:\n",
    "#     pickle.dump(key_embedding_dict, f)"
   ]
  },
  {
   "cell_type": "code",
   "execution_count": 76,
   "id": "52f94326-2a98-49e1-a065-db3deaa663f5",
   "metadata": {},
   "outputs": [
    {
     "name": "stdout",
     "output_type": "stream",
     "text": [
      "KeyError: '2008_A_218' - One of the cases is not found in the dictionaries.\n",
      "Similarity between 1959_J_4 and 2000_B_24: 0.3852657650841844, Actual is 0.55\n",
      "Similarity between 1961_I_17 and 1976_T_4: 0.7831138900209538, Actual is 0.35\n",
      "Similarity between 2009_S_1030 and 2013_B_11: 0.3780329045193367, Actual is 0.6\n",
      "Similarity between 1960_B_3 and 2005_F_5: 0.6209171235041052, Actual is 0.8\n",
      "KeyError: 'ASRASF2009' - One of the cases is not found in the dictionaries.\n",
      "Similarity between 1954_B_4 and 1980_R_34: 0.2810872214707585, Actual is 0.6\n",
      "Similarity between 1956_T_26 and 1962_S_173: 0.8361328608763268, Actual is 0.45\n",
      "Similarity between 2014_R_16 and 1992_A_59: 0.5003502377231134, Actual is 0.75\n",
      "Similarity between 1959_M_20 and 1969_S_107: 0.39178360896410197, Actual is 0.2\n",
      "Similarity between 1958_V_2 and 1959_J_4: 0.2982128084208087, Actual is 0.35\n",
      "Similarity between 1955_S_21 and 1998_G_32: 0.7864985516313031, Actual is 0.5\n",
      "Similarity between 1990_C_99 and 2009_M_80: 0.29330480786404683, Actual is 0.7\n",
      "Similarity between 1957_L_1 and 2013_K_18: 0.37474330471615536, Actual is 0.25\n",
      "Similarity between 1955_B_4 and 1971_G_9: 0.4256777525660691, Actual is 0.7\n",
      "Similarity between 2013_S_366 and 2007_S_60: 0.6326018379840245, Actual is 0.7\n",
      "Similarity between 2013_S_366 and 2006_S_274: 0.5083824722973558, Actual is 0.55\n",
      "KeyError: '1975_C_45' - One of the cases is not found in the dictionaries.\n",
      "Similarity between 2014_S_203 and 2009_P_154: 0.5493510677533848, Actual is 0.3\n",
      "Similarity between 1990_S_130 and 2011_I_16: 0.4027409534053563, Actual is 0.5\n",
      "KeyError: '1962_M_53' - One of the cases is not found in the dictionaries.\n",
      "Similarity between 1954_S_24 and 2009_C_133: 0.3383757965537806, Actual is 0.6\n",
      "Similarity between 1955_S_30 and 1989_S_159: 0.7687583267590925, Actual is 0.5\n",
      "Similarity between 1956_J_4 and 1976_M_60: 0.37500949898737346, Actual is 0.9\n",
      "Similarity between 1957_R_5 and 2017_S_108: 0.41465190655939815, Actual is 0.35\n",
      "Similarity between 1954_T_40 and 2005_Y_3: 0.3272020276367773, Actual is 0.45\n",
      "Similarity between 1954_T_53 and 1964_N_5: 0.25135222918826405, Actual is 0.6\n",
      "KeyError: '1958_T_40' - One of the cases is not found in the dictionaries.\n",
      "Similarity between 1959_G_11 and 1986_P_36: 0.8737570820507959, Actual is 0.8\n",
      "KeyError: '1960_A_15' - One of the cases is not found in the dictionaries.\n",
      "Similarity between 2013_S_366 and 2009_S_952: 0.8026647148484172, Actual is 0.75\n",
      "Similarity between 1990_S_130 and 1999_U_100: 0.3371842735272209, Actual is 0.7\n",
      "Similarity between 1958_M_8 and 1977_S_62: 0.5148503333021068, Actual is 0.7\n",
      "Similarity between 1954_S_22 and 2002_S_633: 0.33680148512179764, Actual is 0.5\n",
      "Similarity between 1954_U_1 and 1991_B_26: 0.40050463083779664, Actual is 0.25\n",
      "Similarity between 2009_M_80 and 1990_C_99: 0.29330480786404683, Actual is 0.35\n",
      "KeyError: '2005_Y_5' - One of the cases is not found in the dictionaries.\n",
      "Similarity between 1961_D_10 and 2009_M_289: 0.509145627592871, Actual is 0.15\n",
      "KeyError: 'JKGSMA1967' - One of the cases is not found in the dictionaries.\n",
      "Similarity between 1955_S_30 and 2002_M_110: 0.7420018205259169, Actual is 0.4\n",
      "Similarity between 1955_S_60 and 2013_S_308: 0.29504564216387813, Actual is 0.85\n",
      "Similarity between 1960_D_4 and 1970_P_28: 0.7213679657032688, Actual is 0.6\n",
      "Similarity between 1955_A_10 and 2006_R_45: 0.43831679299186477, Actual is 0.65\n",
      "Similarity between 2006_N_69 and 2008_R_158: 0.8966373729952981, Actual is 0.3\n",
      "Similarity between 1955_S_42 and 1970_A_30: 0.61737317085207, Actual is 0.5\n",
      "KeyError: '1969_H_14' - One of the cases is not found in the dictionaries.\n",
      "Similarity between 1955_M_3 and 2007_C_276: 0.23813434809071027, Actual is 0.5\n",
      "KeyError: '1958_T_40' - One of the cases is not found in the dictionaries.\n",
      "Similarity between 1961_M_29 and 1977_R_16: 0.3139284589350401, Actual is 0.8\n",
      "KeyError: '2008_K_128' - One of the cases is not found in the dictionaries.\n",
      "Similarity between 1954_B_6 and 2010_A_107: 0.5879478122741679, Actual is 0.3\n",
      "Similarity between 1960_T_144 and 2001_K_22: 0.43592466331791574, Actual is 0.7\n",
      "Similarity between 1961_D_19 and 2001_S_633: 0.35873335050823296, Actual is 0.85\n",
      "KeyError: '1999_U_75' - One of the cases is not found in the dictionaries.\n",
      "Similarity between 1961_C_23 and 1964_C_59: 0.6780140475912466, Actual is 0.7\n",
      "KeyError: '1958_T_40' - One of the cases is not found in the dictionaries.\n",
      "Similarity between 1954_T_53 and 1955_S_46: 0.8718955452992307, Actual is 0.65\n",
      "Similarity between 2007_S_60 and 2013_S_366: 0.6326018379840245, Actual is 0.15\n",
      "Similarity between 2005_S_441 and 2012_S_119: 0.5980079003854646, Actual is 0.15\n",
      "Similarity between 1959_S_66 and 2004_M_2: 0.40487881989134056, Actual is 0.35\n",
      "Similarity between 2006_S_696 and 1999_S_198: 0.7735389722924171, Actual is 0.75\n",
      "Similarity between 1954_N_9 and 1965_N_5: 0.7115949537460653, Actual is 0.45\n",
      "KeyError: '1968_B_27' - One of the cases is not found in the dictionaries.\n",
      "Similarity between 2008_K_204 and 2007_V_71: 0.41396383493139854, Actual is 0.5\n",
      "Similarity between 1990_S_130 and 1980_U_40: 0.3678082487201036, Actual is 0.6\n",
      "Similarity between 1954_S_72 and 2000_P_48: 0.6165267800367157, Actual is 0.35\n",
      "Similarity between 2012_S_119 and 1959_T_40: 0.4913601454026516, Actual is 0.15\n",
      "Similarity between 2013_B_11 and 2009_S_1030: 0.3780329045193367, Actual is 0.65\n",
      "KeyError: '1960_B_9' - One of the cases is not found in the dictionaries.\n",
      "Similarity between 1960_V_6 and 1963_P_10: 0.7931794057052554, Actual is 0.15\n",
      "Similarity between 1958_K_11 and 2014_S_246: 0.5035256428267908, Actual is 0.35\n",
      "KeyError: '1954_G_4' - One of the cases is not found in the dictionaries.\n",
      "Similarity between 1960_T_124 and 1999_T_57: 0.5503885289211277, Actual is 0.2\n",
      "Similarity between 1974_B_25 and 1973_S_212: 0.4413761355270768, Actual is 0.45\n",
      "Similarity between 1958_B_3 and 1958_T_31: 0.8617746179706771, Actual is 0.15\n",
      "Similarity between 2012_S_119 and 2005_S_441: 0.5980079003854646, Actual is 0.65\n",
      "Similarity between 1960_M_48 and 2005_K_85: 0.3369453937740422, Actual is 0.55\n",
      "KeyError: '2005_Y_5' - One of the cases is not found in the dictionaries.\n",
      "KeyError: '1953_A_5' - One of the cases is not found in the dictionaries.\n",
      "Similarity between 1960_S_59 and 1988_U_45: 0.3010874723777516, Actual is 0.5\n",
      "Similarity between 1957_M_26 and 2004_R_188: 0.5001184588904961, Actual is 0.35\n",
      "Similarity between 1959_M_35 and 2004_M_67: 0.8488471530220338, Actual is 0.5\n",
      "Similarity between 2006_S_274 and 2013_S_366: 0.5083824722973558, Actual is 0.45\n",
      "Similarity between 1959_T_25 and 1963_P_10: 0.6471761657695018, Actual is 0.45\n",
      "KeyError: 'CLJOSUPAS1959' - One of the cases is not found in the dictionaries.\n",
      "Similarity between 1958_R_9 and 1976_M_10: 0.6851940680420127, Actual is 0.3\n",
      "Similarity between 1961_M_6 and 1988_S_14: 0.35201959160694063, Actual is 0.55\n",
      "Similarity between 1958_S_6 and 1960_L_8: 0.7757064795381404, Actual is 0.5\n",
      "Similarity between 1955_T_14 and 1958_K_11: 0.5456291139018647, Actual is 0.45\n",
      "Similarity between 1960_B_6 and 2012_M_36: 0.29891567962254717, Actual is 0.3\n"
     ]
    }
   ],
   "source": [
    "output_file = '/home/sjain/Documents/sem4/DL,ML/catch/similarities_meta2vec_B_final.txt'\n",
    "similarities_list=[]\n",
    "scores_list=[]\n",
    "for case_1, case_2,score in zip(case_list, case_list2,scores):\n",
    "    try:\n",
    "        entity_1 = id_to_entity[case_1]\n",
    "        entity_2 = id_to_entity[case_2]\n",
    "        \n",
    "        embedding1 = key_embedding_dict[entity_1]\n",
    "        embedding2 = key_embedding_dict[entity_2]\n",
    "        \n",
    "        # Calculate cosine similarity\n",
    "        similarity = calculate_cosine_similarity(embedding1, embedding2)\n",
    "        similarities_list.append(similarity)\n",
    "        scores_list.append(score)\n",
    "        \n",
    "        # Print the similarity\n",
    "        print(f\"Similarity between {case_1} and {case_2}: {similarity}, Actual is {score}\")\n",
    "        with open(output_file, 'a') as file:\n",
    "            file.write(f\"Similarity between {case_1} and {case_2}: {similarity}, Actual is {score}\\n\")\n",
    "\n",
    "\n",
    "    except KeyError as e:\n",
    "        print(f\"KeyError: {e} - One of the cases is not found in the dictionaries.\")\n",
    "    except IndexError as e:\n",
    "        print(f\"IndexError: {e} - One of the indices is out of bounds in the embeddings array.\")\n",
    "    except Exception as e:\n",
    "        print(f\"An unexpected error occurred: {e}\")\n",
    "    \n"
   ]
  },
  {
   "cell_type": "code",
   "execution_count": 77,
   "id": "c8baac83-7246-4203-9320-1c7b3fea5042",
   "metadata": {},
   "outputs": [
    {
     "name": "stdout",
     "output_type": "stream",
     "text": [
      "Pearson correlation coefficient: -0.14194577653035576\n"
     ]
    }
   ],
   "source": [
    "\n",
    "from scipy.stats import pearsonr\n",
    "similarities_array = np.array(similarities_list)\n",
    "scores_array = np.array(scores_list)\n",
    "\n",
    "# Calculate Pearson correlation coefficient\n",
    "pearson_corr, _ = pearsonr(similarities_array, scores_array)\n",
    "\n",
    "print(f\"Pearson correlation coefficient: {pearson_corr}\")\n"
   ]
  },
  {
   "cell_type": "markdown",
   "id": "2f433fff-69f3-4d7e-b3f8-db3896109b9d",
   "metadata": {},
   "source": [
    "# GCN"
   ]
  },
  {
   "cell_type": "code",
   "execution_count": 25,
   "id": "fde9b68b-1e53-429f-a02b-85a4fdb05f4b",
   "metadata": {},
   "outputs": [],
   "source": [
    "import json\n",
    "\n",
    "# Opening JSON file\n",
    "f = open('GNN/gcn_embeddings_inLegalBERT_final.json')\n",
    "\n",
    "# returns JSON object as \n",
    "# a dictionary\n",
    "\n",
    "gcn_embeddings = json.load(f)\n",
    "# 16 dimensional"
   ]
  },
  {
   "cell_type": "code",
   "execution_count": 44,
   "id": "6493ecc5-b195-4409-913e-7b6a5275ffdf",
   "metadata": {},
   "outputs": [],
   "source": [
    "import numpy as np\n",
    "from numpy.linalg import norm\n",
    "from scipy import spatial\n",
    "\n",
    "# define two lists or array\n",
    "\n",
    "\n",
    "# Define the function to calculate cosine similarity between two embeddings\n",
    "def calculate_cosine_similarity_gnn(embedding1,embedding2):\n",
    "    # return cosine_similarity(embedding1,embedding2)\n",
    "    # Reshape embeddings to 2D array for sklearn's cosine_similarity function\n",
    "    # Compute cosine similarity\n",
    "    embedding1 = np.array(embedding1)\n",
    "    embedding2 = np.array(embedding2)\n",
    "    \n",
    "    # Filter out positions where both embeddings have 0.0\n",
    "    mask = ~((embedding1 == 0.0) & (embedding2 == 0.0))\n",
    "    filtered_embedding1 = embedding1[mask]\n",
    "    filtered_embedding2 = embedding2[mask]\n",
    "    \n",
    "    # Ensure there are valid elements to compare\n",
    "    if len(filtered_embedding1) == 0 or len(filtered_embedding2) == 0:\n",
    "        return 0.0  # Return 0.0 similarity if there are no valid positions\n",
    "    # Reshape to 2D arrays for cosine similarity computation\n",
    "    filtered_embedding1 = filtered_embedding1.reshape(1, -1)\n",
    "    filtered_embedding2 = filtered_embedding2.reshape(1, -1)\n",
    "    \n",
    "    # Compute cosine similarity\n",
    "    similarity = cosine_similarity(filtered_embedding1, filtered_embedding2)\n",
    "    \n",
    "    return similarity[0][0]\n"
   ]
  },
  {
   "cell_type": "code",
   "execution_count": 62,
   "id": "35308e48-34e9-48b8-bc70-45a84bec7dc1",
   "metadata": {},
   "outputs": [
    {
     "name": "stdout",
     "output_type": "stream",
     "text": [
      "Similarity between 1961_I_17 and 1976_T_4: 0.9660375291808694, Actual is 0.35\n",
      "Similarity between 2009_S_1030 and 2013_B_11: 0.9815083015253987, Actual is 0.6\n",
      "Similarity between 1960_B_3 and 2005_F_5: 0.9545218947596184, Actual is 0.8\n",
      "Similarity between 1960_T_149 and 2009_R_138: 0.9806275275991088, Actual is 0.3\n",
      "Similarity between 1956_T_26 and 1962_S_173: 0.9774488857412795, Actual is 0.45\n",
      "Similarity between 2014_R_16 and 1992_A_59: 0.9328141109172498, Actual is 0.75\n",
      "Similarity between 1959_M_20 and 1969_S_107: 0.9562120226912794, Actual is 0.2\n",
      "Similarity between 1958_V_2 and 1959_J_4: 0.9001489612937934, Actual is 0.35\n",
      "Similarity between 1955_S_21 and 1998_G_32: 0.9996041396517367, Actual is 0.5\n",
      "Similarity between 1990_C_99 and 2009_M_80: 0.9421619823570967, Actual is 0.7\n",
      "Similarity between 1957_L_1 and 2013_K_18: 0.9905869539977992, Actual is 0.25\n",
      "Similarity between 1955_B_4 and 1971_G_9: 0.9783337331492095, Actual is 0.7\n",
      "Similarity between 2013_S_366 and 2007_S_60: 0.9787985183486971, Actual is 0.7\n",
      "Similarity between 2013_S_366 and 2006_S_274: 0.9952197753847895, Actual is 0.55\n",
      "KeyError: '1975_C_45' - One of the cases is not found in the dictionaries.\n",
      "Similarity between 1990_S_130 and 2011_I_16: 0.9784890087710852, Actual is 0.5\n",
      "KeyError: '1962_M_53' - One of the cases is not found in the dictionaries.\n",
      "Similarity between 1955_S_30 and 1989_S_159: 0.9944070402914807, Actual is 0.5\n",
      "Similarity between 1956_J_4 and 1976_M_60: 0.9780734759992491, Actual is 0.9\n",
      "Similarity between 1957_R_5 and 2017_S_108: 0.9840700200258519, Actual is 0.35\n",
      "Similarity between 1954_T_40 and 2005_Y_3: 0.9671253967599592, Actual is 0.45\n",
      "Similarity between 1954_T_53 and 1964_N_5: 0.9879576807869818, Actual is 0.6\n",
      "KeyError: '1958_T_40' - One of the cases is not found in the dictionaries.\n",
      "KeyError: '1960_A_15' - One of the cases is not found in the dictionaries.\n",
      "Similarity between 1990_S_130 and 1999_U_100: 0.982768944758479, Actual is 0.7\n",
      "Similarity between 1958_M_8 and 1977_S_62: 0.9638671706299428, Actual is 0.7\n",
      "Similarity between 1954_S_22 and 2002_S_633: 0.9800824600088548, Actual is 0.5\n",
      "Similarity between 1954_U_1 and 1991_B_26: 0.9738786613224738, Actual is 0.25\n",
      "Similarity between 2009_M_80 and 1990_C_99: 0.9421619823570967, Actual is 0.35\n",
      "KeyError: '2005_Y_5' - One of the cases is not found in the dictionaries.\n",
      "Similarity between 1954_R_10 and 1967_T_29: 0.9942254118828245, Actual is 0.8\n",
      "Similarity between 1955_S_60 and 2013_S_308: 0.9502578650387743, Actual is 0.85\n",
      "Similarity between 1960_D_4 and 1970_P_28: 0.9656102647746703, Actual is 0.6\n",
      "Similarity between 1955_A_10 and 2006_R_45: 0.9879769933707803, Actual is 0.65\n",
      "Similarity between 2006_N_69 and 2008_R_158: 0.9730910673280635, Actual is 0.3\n",
      "Similarity between 1955_S_42 and 1970_A_30: 0.9808236202391303, Actual is 0.5\n",
      "KeyError: '1969_H_14' - One of the cases is not found in the dictionaries.\n",
      "KeyError: '1958_T_40' - One of the cases is not found in the dictionaries.\n",
      "KeyError: '2008_K_128' - One of the cases is not found in the dictionaries.\n",
      "Similarity between 1960_T_144 and 2001_K_22: 0.9354456908126836, Actual is 0.7\n",
      "Similarity between 1961_D_19 and 2001_S_633: 0.9423061980071682, Actual is 0.85\n",
      "KeyError: '1999_U_75' - One of the cases is not found in the dictionaries.\n",
      "KeyError: '1958_T_40' - One of the cases is not found in the dictionaries.\n",
      "Similarity between 2007_S_60 and 2013_S_366: 0.9787985183486971, Actual is 0.15\n",
      "Similarity between 2005_S_441 and 2012_S_119: 0.9900260673044871, Actual is 0.15\n",
      "Similarity between 1959_S_66 and 2004_M_2: 0.9377856049208813, Actual is 0.35\n",
      "Similarity between 2006_S_696 and 1999_S_198: 0.9780576652659911, Actual is 0.75\n",
      "Similarity between 1954_N_9 and 1965_N_5: 0.974854798756654, Actual is 0.45\n",
      "KeyError: '1968_B_27' - One of the cases is not found in the dictionaries.\n",
      "Similarity between 1990_S_130 and 1980_U_40: 0.9460202586933517, Actual is 0.6\n",
      "Similarity between 1954_S_72 and 2000_P_48: 0.997418945849718, Actual is 0.35\n",
      "Similarity between 2012_S_119 and 1959_T_40: 0.9916621444031808, Actual is 0.15\n",
      "Similarity between 2013_B_11 and 2009_S_1030: 0.9815083015253987, Actual is 0.65\n",
      "KeyError: '1960_B_9' - One of the cases is not found in the dictionaries.\n",
      "Similarity between 1958_K_11 and 2014_S_246: 0.9933417435813887, Actual is 0.35\n",
      "KeyError: '1954_G_4' - One of the cases is not found in the dictionaries.\n",
      "Similarity between 1974_B_25 and 1973_S_212: 0.988086996582582, Actual is 0.45\n",
      "Similarity between 1958_B_3 and 1958_T_31: 0.9968027032104623, Actual is 0.15\n",
      "Similarity between 2012_S_119 and 2005_S_441: 0.9900260673044871, Actual is 0.65\n",
      "Similarity between 1960_M_48 and 2005_K_85: 0.9518459824698968, Actual is 0.55\n",
      "KeyError: '2005_Y_5' - One of the cases is not found in the dictionaries.\n",
      "Similarity between 1957_M_26 and 2004_R_188: 0.9959420015866507, Actual is 0.35\n",
      "Similarity between 1959_M_35 and 2004_M_67: 0.9855531845050323, Actual is 0.5\n",
      "Similarity between 2006_S_274 and 2013_S_366: 0.9952197753847895, Actual is 0.45\n",
      "Similarity between 1959_T_25 and 1963_P_10: 0.9815559974438487, Actual is 0.45\n",
      "Similarity between 1959_C_14 and 1963_P_3: 0.9837725165139803, Actual is 0.4\n",
      "Similarity between 1961_M_6 and 1988_S_14: 0.9429946915686579, Actual is 0.55\n",
      "Similarity between 1958_S_6 and 1960_L_8: 0.9401517255273106, Actual is 0.5\n",
      "Similarity between 1955_T_14 and 1958_K_11: 0.9890584439053672, Actual is 0.45\n",
      "Similarity between 1960_B_6 and 2012_M_36: 0.9867456437790314, Actual is 0.3\n"
     ]
    }
   ],
   "source": [
    "output_file = '/home/sjain/Documents/sem4/DL,ML/catch/similarities_gcn_final.txt'\n",
    "similarities_list=[]\n",
    "scores_list=[]\n",
    "i=0\n",
    "for i, (case_1, case_2, score) in enumerate(zip(case_list, case_list2, scores)):\n",
    "\n",
    "    if i in i_list:  # Process only if the index is in i_list\n",
    "        try:\n",
    "            # Retrieve entities based on case IDs\n",
    "            entity_1 = id_to_entity[case_1]\n",
    "            entity_2 = id_to_entity[case_2]\n",
    "\n",
    "            # Get the corresponding GCN embeddings\n",
    "            embedding1 = gcn_embeddings[entity_1]\n",
    "            embedding2 = gcn_embeddings[entity_2]\n",
    "\n",
    "            # Calculate cosine similarity\n",
    "            similarity = calculate_cosine_similarity_gnn(embedding1, embedding2)\n",
    "\n",
    "            # Store the results\n",
    "            similarities_list.append(similarity)\n",
    "            scores_list.append(score)\n",
    "\n",
    "            # Print and write the similarity to the file\n",
    "            output_line = f\"Similarity between {case_1} and {case_2}: {similarity}, Actual is {score}\\n\"\n",
    "            print(output_line.strip())  # Print without the newline\n",
    "            # file.write(output_line)\n",
    "\n",
    "        except KeyError as e:\n",
    "            print(f\"KeyError: {e} - One of the cases is not found in the dictionaries.\")\n",
    "        \n",
    "        except IndexError as e:\n",
    "            print(f\"IndexError: {e} - One of the indices is out of bounds in the embeddings array.\")\n",
    "        \n",
    "        except Exception as e:\n",
    "            print(f\"An unexpected error occurred: {e}\")"
   ]
  },
  {
   "cell_type": "code",
   "execution_count": 59,
   "id": "cb0f8d9e-3535-41a7-be3e-1edd87359145",
   "metadata": {},
   "outputs": [
    {
     "name": "stdout",
     "output_type": "stream",
     "text": [
      "Pearson correlation coefficient: -0.07650164357448669\n"
     ]
    }
   ],
   "source": [
    "\n",
    "from scipy.stats import pearsonr\n",
    "similarities_array = np.array(similarities_list)\n",
    "scores_array = np.array(scores_list)\n",
    "\n",
    "# Calculate Pearson correlation coefficient\n",
    "pearson_corr, _ = pearsonr(similarities_array, scores_array)\n",
    "\n",
    "print(f\"Pearson correlation coefficient: {pearson_corr}\")\n"
   ]
  },
  {
   "cell_type": "code",
   "execution_count": 63,
   "id": "5d6e043b-4d59-49c2-a025-6debfd255c89",
   "metadata": {},
   "outputs": [
    {
     "data": {
      "text/plain": [
       "56"
      ]
     },
     "execution_count": 63,
     "metadata": {},
     "output_type": "execute_result"
    }
   ],
   "source": [
    "len(similarities_list)"
   ]
  },
  {
   "cell_type": "code",
   "execution_count": 47,
   "id": "4f0bd4ff-d177-4bc2-8f2d-a67f70c636fd",
   "metadata": {},
   "outputs": [],
   "source": [
    "similarities_gcn = similarities_list"
   ]
  },
  {
   "cell_type": "code",
   "execution_count": 48,
   "id": "e4cc07eb-08a7-4f3c-a526-f0f4196edcfb",
   "metadata": {},
   "outputs": [
    {
     "data": {
      "text/plain": [
       "195"
      ]
     },
     "execution_count": 48,
     "metadata": {},
     "output_type": "execute_result"
    }
   ],
   "source": [
    "similarities_avg = similarities_node2vec + similarities_gcn \n",
    "len(similarities_avg)"
   ]
  },
  {
   "cell_type": "code",
   "execution_count": 30,
   "id": "86e0b4e3-3cf6-4407-9aa2-abe417f104c4",
   "metadata": {},
   "outputs": [
    {
     "ename": "ValueError",
     "evalue": "x and y must have the same length.",
     "output_type": "error",
     "traceback": [
      "\u001b[0;31m---------------------------------------------------------------------------\u001b[0m",
      "\u001b[0;31mValueError\u001b[0m                                Traceback (most recent call last)",
      "\u001b[0;32m/tmp/ipykernel_12502/3506581495.py\u001b[0m in \u001b[0;36m?\u001b[0;34m()\u001b[0m\n\u001b[1;32m      2\u001b[0m \u001b[0msimilarities_array\u001b[0m \u001b[0;34m=\u001b[0m \u001b[0mnp\u001b[0m\u001b[0;34m.\u001b[0m\u001b[0marray\u001b[0m\u001b[0;34m(\u001b[0m\u001b[0msimilarities_avg\u001b[0m\u001b[0;34m)\u001b[0m\u001b[0;34m\u001b[0m\u001b[0;34m\u001b[0m\u001b[0m\n\u001b[1;32m      3\u001b[0m \u001b[0mscores_array\u001b[0m \u001b[0;34m=\u001b[0m \u001b[0mnp\u001b[0m\u001b[0;34m.\u001b[0m\u001b[0marray\u001b[0m\u001b[0;34m(\u001b[0m\u001b[0mscores_list\u001b[0m\u001b[0;34m)\u001b[0m\u001b[0;34m\u001b[0m\u001b[0;34m\u001b[0m\u001b[0m\n\u001b[1;32m      4\u001b[0m \u001b[0;34m\u001b[0m\u001b[0m\n\u001b[1;32m      5\u001b[0m \u001b[0;31m# Calculate Pearson correlation coefficient\u001b[0m\u001b[0;34m\u001b[0m\u001b[0;34m\u001b[0m\u001b[0m\n\u001b[0;32m----> 6\u001b[0;31m \u001b[0mpearson_corr\u001b[0m\u001b[0;34m,\u001b[0m \u001b[0m_\u001b[0m \u001b[0;34m=\u001b[0m \u001b[0mpearsonr\u001b[0m\u001b[0;34m(\u001b[0m\u001b[0msimilarities_array\u001b[0m\u001b[0;34m,\u001b[0m \u001b[0mscores_array\u001b[0m\u001b[0;34m)\u001b[0m\u001b[0;34m\u001b[0m\u001b[0;34m\u001b[0m\u001b[0m\n\u001b[0m\u001b[1;32m      7\u001b[0m \u001b[0;34m\u001b[0m\u001b[0m\n\u001b[1;32m      8\u001b[0m \u001b[0mprint\u001b[0m\u001b[0;34m(\u001b[0m\u001b[0;34mf\"Pearson correlation coefficient: {pearson_corr}\"\u001b[0m\u001b[0;34m)\u001b[0m\u001b[0;34m\u001b[0m\u001b[0;34m\u001b[0m\u001b[0m\n",
      "\u001b[0;32m~/anaconda3/lib/python3.11/site-packages/scipy/stats/_stats_py.py\u001b[0m in \u001b[0;36m?\u001b[0;34m(x, y, alternative, method)\u001b[0m\n\u001b[1;32m   4761\u001b[0m \u001b[0;34m\u001b[0m\u001b[0m\n\u001b[1;32m   4762\u001b[0m     \"\"\"\n\u001b[1;32m   4763\u001b[0m     \u001b[0mn\u001b[0m \u001b[0;34m=\u001b[0m \u001b[0mlen\u001b[0m\u001b[0;34m(\u001b[0m\u001b[0mx\u001b[0m\u001b[0;34m)\u001b[0m\u001b[0;34m\u001b[0m\u001b[0;34m\u001b[0m\u001b[0m\n\u001b[1;32m   4764\u001b[0m     \u001b[0;32mif\u001b[0m \u001b[0mn\u001b[0m \u001b[0;34m!=\u001b[0m \u001b[0mlen\u001b[0m\u001b[0;34m(\u001b[0m\u001b[0my\u001b[0m\u001b[0;34m)\u001b[0m\u001b[0;34m:\u001b[0m\u001b[0;34m\u001b[0m\u001b[0;34m\u001b[0m\u001b[0m\n\u001b[0;32m-> 4765\u001b[0;31m         \u001b[0;32mraise\u001b[0m \u001b[0mValueError\u001b[0m\u001b[0;34m(\u001b[0m\u001b[0;34m'x and y must have the same length.'\u001b[0m\u001b[0;34m)\u001b[0m\u001b[0;34m\u001b[0m\u001b[0;34m\u001b[0m\u001b[0m\n\u001b[0m\u001b[1;32m   4766\u001b[0m \u001b[0;34m\u001b[0m\u001b[0m\n\u001b[1;32m   4767\u001b[0m     \u001b[0;32mif\u001b[0m \u001b[0mn\u001b[0m \u001b[0;34m<\u001b[0m \u001b[0;36m2\u001b[0m\u001b[0;34m:\u001b[0m\u001b[0;34m\u001b[0m\u001b[0;34m\u001b[0m\u001b[0m\n\u001b[1;32m   4768\u001b[0m         \u001b[0;32mraise\u001b[0m \u001b[0mValueError\u001b[0m\u001b[0;34m(\u001b[0m\u001b[0;34m'x and y must have length at least 2.'\u001b[0m\u001b[0;34m)\u001b[0m\u001b[0;34m\u001b[0m\u001b[0;34m\u001b[0m\u001b[0m\n",
      "\u001b[0;31mValueError\u001b[0m: x and y must have the same length."
     ]
    }
   ],
   "source": [
    "\n",
    "from scipy.stats import pearsonr\n",
    "similarities_array = np.array(similarities_avg)\n",
    "scores_array = np.array(scores_list)\n",
    "\n",
    "# Calculate Pearson correlation coefficient\n",
    "pearson_corr, _ = pearsonr(similarities_array, scores_array)\n",
    "\n",
    "print(f\"Pearson correlation coefficient: {pearson_corr}\")\n"
   ]
  },
  {
   "cell_type": "code",
   "execution_count": 83,
   "id": "1ae93a51-a295-4b9d-94e8-3e727f2748a5",
   "metadata": {},
   "outputs": [],
   "source": [
    "import json\n",
    "\n",
    "# Opening JSON file\n",
    "f = open('GNN/gat_embeddings_inLegalBERT_final.json')\n",
    "\n",
    "# returns JSON object as \n",
    "# a dictionary\n",
    "gat_embeddings = json.load(f)\n"
   ]
  },
  {
   "cell_type": "code",
   "execution_count": 84,
   "id": "ddc552ce-4f43-46fb-a46f-a891c91f1f2b",
   "metadata": {},
   "outputs": [
    {
     "name": "stdout",
     "output_type": "stream",
     "text": [
      "KeyError: '2008_A_218' - One of the cases is not found in the dictionaries.\n",
      "Similarity between 1959_J_4 and 2000_B_24: 0.7740812272256431, Actual is 0.55\n",
      "Similarity between 1961_I_17 and 1976_T_4: 0.6929119907917825, Actual is 0.35\n",
      "Similarity between 2009_S_1030 and 2013_B_11: 0.9167887055703206, Actual is 0.6\n",
      "Similarity between 1960_B_3 and 2005_F_5: 0.8316914761655325, Actual is 0.8\n",
      "Similarity between 1960_T_149 and 2009_R_138: 0.8858942182533467, Actual is 0.3\n",
      "Similarity between 1954_B_4 and 1980_R_34: 0.5940941379714784, Actual is 0.6\n",
      "Similarity between 1956_T_26 and 1962_S_173: 0.9322776515079352, Actual is 0.45\n",
      "Similarity between 2014_R_16 and 1992_A_59: 0.8773063184442279, Actual is 0.75\n",
      "Similarity between 1959_M_20 and 1969_S_107: 0.4907000035879374, Actual is 0.2\n",
      "Similarity between 1958_V_2 and 1959_J_4: 0.6845161127630999, Actual is 0.35\n",
      "Similarity between 1955_S_21 and 1998_G_32: 0.9838863740882585, Actual is 0.5\n",
      "Similarity between 1990_C_99 and 2009_M_80: 0.44987870728614576, Actual is 0.7\n",
      "Similarity between 1957_L_1 and 2013_K_18: 0.8545152090297853, Actual is 0.25\n",
      "Similarity between 1955_B_4 and 1971_G_9: 0.8352647638798875, Actual is 0.7\n",
      "Similarity between 2013_S_366 and 2007_S_60: 0.9263168200024869, Actual is 0.7\n",
      "Similarity between 2013_S_366 and 2006_S_274: 0.9360678377388575, Actual is 0.55\n",
      "KeyError: '1975_C_45' - One of the cases is not found in the dictionaries.\n",
      "Similarity between 2014_S_203 and 2009_P_154: 0.9296270018192019, Actual is 0.3\n",
      "Similarity between 1990_S_130 and 2011_I_16: 0.7679302318190562, Actual is 0.5\n",
      "KeyError: '1962_M_53' - One of the cases is not found in the dictionaries.\n",
      "Similarity between 1954_S_24 and 2009_C_133: 0.5703652160912638, Actual is 0.6\n",
      "Similarity between 1955_S_30 and 1989_S_159: 0.9713777924895262, Actual is 0.5\n",
      "Similarity between 1956_J_4 and 1976_M_60: 0.8876983558877185, Actual is 0.9\n",
      "Similarity between 1957_R_5 and 2017_S_108: 0.8772716218997653, Actual is 0.35\n",
      "Similarity between 1954_T_40 and 2005_Y_3: 0.9505117117951093, Actual is 0.45\n",
      "Similarity between 1954_T_53 and 1964_N_5: 0.7609177401261926, Actual is 0.6\n",
      "KeyError: '1958_T_40' - One of the cases is not found in the dictionaries.\n",
      "Similarity between 1959_G_11 and 1986_P_36: 0.9349443093386633, Actual is 0.8\n",
      "KeyError: '1960_A_15' - One of the cases is not found in the dictionaries.\n",
      "Similarity between 2013_S_366 and 2009_S_952: 0.971425180418943, Actual is 0.75\n",
      "Similarity between 1990_S_130 and 1999_U_100: 0.9197568041375448, Actual is 0.7\n",
      "Similarity between 1958_M_8 and 1977_S_62: 0.7347192583421298, Actual is 0.7\n",
      "Similarity between 1954_S_22 and 2002_S_633: 0.7411283803372148, Actual is 0.5\n",
      "Similarity between 1954_U_1 and 1991_B_26: 0.29965424604939805, Actual is 0.25\n",
      "Similarity between 2009_M_80 and 1990_C_99: 0.44987870728614576, Actual is 0.35\n",
      "KeyError: '2005_Y_5' - One of the cases is not found in the dictionaries.\n",
      "Similarity between 1961_D_10 and 2009_M_289: 0.9600617778122108, Actual is 0.15\n",
      "Similarity between 1954_R_10 and 1967_T_29: 0.8052879672072356, Actual is 0.8\n",
      "Similarity between 1955_S_30 and 2002_M_110: 0.8899839213146443, Actual is 0.4\n",
      "Similarity between 1955_S_60 and 2013_S_308: 0.7223467525673456, Actual is 0.85\n",
      "Similarity between 1960_D_4 and 1970_P_28: 0.8980536765971912, Actual is 0.6\n",
      "Similarity between 1955_A_10 and 2006_R_45: 0.8739703060865721, Actual is 0.65\n",
      "Similarity between 2006_N_69 and 2008_R_158: 0.4989483947756846, Actual is 0.3\n",
      "Similarity between 1955_S_42 and 1970_A_30: 0.9520813444736502, Actual is 0.5\n",
      "KeyError: '1969_H_14' - One of the cases is not found in the dictionaries.\n",
      "Similarity between 1955_M_3 and 2007_C_276: 0.833473272473134, Actual is 0.5\n",
      "KeyError: '1958_T_40' - One of the cases is not found in the dictionaries.\n",
      "Similarity between 1961_M_29 and 1977_R_16: 0.3108276545488012, Actual is 0.8\n",
      "KeyError: '2008_K_128' - One of the cases is not found in the dictionaries.\n",
      "Similarity between 1954_B_6 and 2010_A_107: 0.9040855009981672, Actual is 0.3\n",
      "Similarity between 1960_T_144 and 2001_K_22: 0.8396246174601272, Actual is 0.7\n",
      "Similarity between 1961_D_19 and 2001_S_633: 0.8519182340079277, Actual is 0.85\n",
      "KeyError: '1999_U_75' - One of the cases is not found in the dictionaries.\n",
      "Similarity between 1961_C_23 and 1964_C_59: 0.9599158627328835, Actual is 0.7\n",
      "KeyError: '1958_T_40' - One of the cases is not found in the dictionaries.\n",
      "Similarity between 1954_T_53 and 1955_S_46: 0.9752717204857771, Actual is 0.65\n",
      "Similarity between 2007_S_60 and 2013_S_366: 0.9263168200024869, Actual is 0.15\n",
      "Similarity between 2005_S_441 and 2012_S_119: 0.930173423405732, Actual is 0.15\n",
      "Similarity between 1959_S_66 and 2004_M_2: 0.6403832229870446, Actual is 0.35\n",
      "Similarity between 2006_S_696 and 1999_S_198: 0.9527217000773421, Actual is 0.75\n",
      "Similarity between 1954_N_9 and 1965_N_5: 0.9624107642838806, Actual is 0.45\n",
      "KeyError: '1968_B_27' - One of the cases is not found in the dictionaries.\n",
      "Similarity between 2008_K_204 and 2007_V_71: 0.7624274251839771, Actual is 0.5\n",
      "Similarity between 1990_S_130 and 1980_U_40: 0.2892767668663124, Actual is 0.6\n",
      "Similarity between 1954_S_72 and 2000_P_48: 0.9959929371507954, Actual is 0.35\n",
      "Similarity between 2012_S_119 and 1959_T_40: 0.7930215004201029, Actual is 0.15\n",
      "Similarity between 2013_B_11 and 2009_S_1030: 0.9167887055703206, Actual is 0.65\n",
      "KeyError: '1960_B_9' - One of the cases is not found in the dictionaries.\n",
      "Similarity between 1960_V_6 and 1963_P_10: 0.8263715162364706, Actual is 0.15\n",
      "Similarity between 1958_K_11 and 2014_S_246: 0.9391574819904154, Actual is 0.35\n",
      "KeyError: '1954_G_4' - One of the cases is not found in the dictionaries.\n",
      "Similarity between 1960_T_124 and 1999_T_57: 0.812213979980835, Actual is 0.2\n",
      "Similarity between 1974_B_25 and 1973_S_212: 0.8445806155412328, Actual is 0.45\n",
      "Similarity between 1958_B_3 and 1958_T_31: 0.994013852596962, Actual is 0.15\n",
      "Similarity between 2012_S_119 and 2005_S_441: 0.930173423405732, Actual is 0.65\n",
      "Similarity between 1960_M_48 and 2005_K_85: 0.5633139875897646, Actual is 0.55\n",
      "KeyError: '2005_Y_5' - One of the cases is not found in the dictionaries.\n",
      "KeyError: '1953_A_5' - One of the cases is not found in the dictionaries.\n",
      "Similarity between 1960_S_59 and 1988_U_45: 0.6278519878492823, Actual is 0.5\n",
      "Similarity between 1957_M_26 and 2004_R_188: 0.8933888616776468, Actual is 0.35\n",
      "Similarity between 1959_M_35 and 2004_M_67: 0.8887140120269857, Actual is 0.5\n",
      "Similarity between 2006_S_274 and 2013_S_366: 0.9360678377388575, Actual is 0.45\n",
      "Similarity between 1959_T_25 and 1963_P_10: 0.6633514642232565, Actual is 0.45\n",
      "Similarity between 1959_C_14 and 1963_P_3: 0.7699249828920911, Actual is 0.4\n",
      "Similarity between 1958_R_9 and 1976_M_10: 0.9507879565328541, Actual is 0.3\n",
      "Similarity between 1961_M_6 and 1988_S_14: 0.5442776000418516, Actual is 0.55\n",
      "Similarity between 1958_S_6 and 1960_L_8: 0.7899992856536782, Actual is 0.5\n",
      "Similarity between 1955_T_14 and 1958_K_11: 0.9769310438482112, Actual is 0.45\n",
      "Similarity between 1960_B_6 and 2012_M_36: 0.9042651029929183, Actual is 0.3\n"
     ]
    }
   ],
   "source": [
    "output_file = '/home/sjain/Documents/sem4/DL,ML/catch/similarities_gat_final.txt'\n",
    "similarities_list=[]\n",
    "scores_list=[]\n",
    "for case_1, case_2,score in zip(case_list, case_list2,scores):\n",
    "    try:\n",
    "        entity_1 = id_to_entity[case_1]\n",
    "        entity_2 = id_to_entity[case_2]\n",
    "        \n",
    "        embedding1 = gat_embeddings[entity_1]\n",
    "        embedding2 = gat_embeddings[entity_2]\n",
    "        \n",
    "        # Calculate cosine similarity\n",
    "        similarity = calculate_cosine_similarity_gnn(embedding1, embedding2)\n",
    "        similarities_list.append(similarity)\n",
    "        scores_list.append(score)\n",
    "        \n",
    "        # Print the similarity\n",
    "        print(f\"Similarity between {case_1} and {case_2}: {similarity}, Actual is {score}\")\n",
    "        with open(output_file, 'a') as file:\n",
    "            file.write(f\"Similarity between {case_1} and {case_2}: {similarity}, Actual is {score}\\n\")\n",
    "\n",
    "\n",
    "    except KeyError as e:\n",
    "        print(f\"KeyError: {e} - One of the cases is not found in the dictionaries.\")\n",
    "    except IndexError as e:\n",
    "        print(f\"IndexError: {e} - One of the indices is out of bounds in the embeddings array.\")\n",
    "    except Exception as e:\n",
    "        print(f\"An unexpected error occurred: {e}\")\n",
    "    \n"
   ]
  },
  {
   "cell_type": "code",
   "execution_count": 85,
   "id": "4db36d8c-bd7f-4d06-ac67-8c5ac49ffd5a",
   "metadata": {},
   "outputs": [
    {
     "name": "stdout",
     "output_type": "stream",
     "text": [
      "Pearson correlation coefficient: -0.021726752566329333\n"
     ]
    }
   ],
   "source": [
    "\n",
    "from scipy.stats import pearsonr\n",
    "similarities_array = np.array(similarities_list)\n",
    "scores_array = np.array(scores_list)\n",
    "\n",
    "# Calculate Pearson correlation coefficient\n",
    "pearson_corr, _ = pearsonr(similarities_array, scores_array)\n",
    "\n",
    "print(f\"Pearson correlation coefficient: {pearson_corr}\")\n"
   ]
  },
  {
   "cell_type": "code",
   "execution_count": null,
   "id": "29eb0b58-18d4-4c91-ba26-9b1a39385cbd",
   "metadata": {},
   "outputs": [],
   "source": []
  }
 ],
 "metadata": {
  "kernelspec": {
   "display_name": "Python 3 (ipykernel)",
   "language": "python",
   "name": "python3"
  },
  "language_info": {
   "codemirror_mode": {
    "name": "ipython",
    "version": 3
   },
   "file_extension": ".py",
   "mimetype": "text/x-python",
   "name": "python",
   "nbconvert_exporter": "python",
   "pygments_lexer": "ipython3",
   "version": "3.10.12"
  }
 },
 "nbformat": 4,
 "nbformat_minor": 5
}
